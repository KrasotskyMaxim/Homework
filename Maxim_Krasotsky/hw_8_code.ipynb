{
 "cells": [
  {
   "cell_type": "code",
   "execution_count": 2,
   "id": "32752167",
   "metadata": {
    "scrolled": true
   },
   "outputs": [
    {
     "name": "stdout",
     "output_type": "stream",
     "text": [
      "Philosopher 0 is hungry\n",
      "Philosopher 0 started eating\n",
      "Philosopher 1 is hungryPhilosopher 2 is hungry\n",
      "Philosopher 2 started eating\n",
      "\n",
      "Philosopher 4 is hungry\n",
      "Philosopher 0 finished eating\n",
      "Philosopher 3 is hungry\n",
      "Philosopher 2 is hungry\n",
      "Philosopher 2 started eating\n",
      "Philosopher 3 is hungry\n",
      "Philosopher 2 finished eating\n",
      "Philosopher 3 started eating\n",
      "Philosopher 0 is hungryPhilosopher 1 is hungry\n",
      "\n",
      "Philosopher 0 started eating\n",
      "Philosopher 4 is hungry\n",
      "Philosopher 2 finished eating\n",
      "Philosopher 3 started eating\n",
      "Philosopher 3 finished eating\n",
      "Philosopher 3 finished eating\n",
      "Philosopher 0 finished eating\n",
      "Philosopher 0 is hungry\n",
      "Philosopher 0 started eating\n",
      "Philosopher 1 is hungry\n",
      "Philosopher 2 is hungry\n",
      "Philosopher 2 started eating\n",
      "Philosopher 4 is hungry\n",
      "Philosopher 1 is hungry\n",
      "Philosopher 1 started eating\n",
      "Philosopher 0 finished eating\n",
      "Philosopher 4 is hungry\n",
      "Philosopher 4 started eating\n",
      "Philosopher 2 is hungry\n",
      "Philosopher 1 finished eating\n",
      "Philosopher 2 started eating\n",
      "Philosopher 2 finished eating\n",
      "Philosopher 3 is hungry\n",
      "Philosopher 3 started eating\n",
      "Philosopher 2 finished eating\n",
      "Philosopher 4 finished eating\n",
      "Philosopher 3 is hungry\n",
      "Philosopher 3 started eating\n",
      "Philosopher 0 is hungry\n",
      "Philosopher 0 started eating\n",
      "Philosopher 3 finished eating\n",
      "Philosopher 3 finished eating\n"
     ]
    }
   ],
   "source": [
    "# Task 9.1\n",
    "from random import randint\n",
    "from time import sleep\n",
    "from threading import Thread, Semaphore\n",
    "\n",
    "\n",
    "class Philosopher(Thread):\n",
    "    def __init__(self, number, left_fork, right_fork):\n",
    "        Thread.__init__(self)\n",
    "        self.number = number\n",
    "        self.left_fork = left_fork\n",
    "        self.right_fork = right_fork\n",
    "\n",
    "    def run(self) -> None:\n",
    "        while True:\n",
    "            sleep(randint(20, 30))\n",
    "            print(f\"Philosopher {self.number} is hungry\")\n",
    "            self.eating()\n",
    "\n",
    "    def eating(self):\n",
    "        fork1, fork2 = self.left_fork, self.right_fork\n",
    "        while True:\n",
    "            if fork1._value:\n",
    "                fork1.acquire()\n",
    "                if fork2._value:\n",
    "                    fork2.acquire()\n",
    "                    print(f\"Philosopher {self.number} started eating\")\n",
    "                    sleep(randint(5, 10))\n",
    "                    print(f\"Philosopher {self.number} finished eating\")\n",
    "                    fork2.release()\n",
    "                fork1.release()\n",
    "                break\n",
    "\n",
    "\n",
    "forks = [Semaphore() for i in range(5)]\n",
    "\n",
    "\n",
    "philosophers = [Philosopher(i, forks[i % 5], forks[(i + 1) % 5]) for i in range(5)]\n",
    "\n",
    "for philosopher in philosophers:\n",
    "    philosopher.start()"
   ]
  },
  {
   "cell_type": "code",
   "execution_count": null,
   "id": "e4b884c8",
   "metadata": {},
   "outputs": [],
   "source": []
  }
 ],
 "metadata": {
  "kernelspec": {
   "display_name": "Python 3 (ipykernel)",
   "language": "python",
   "name": "python3"
  },
  "language_info": {
   "codemirror_mode": {
    "name": "ipython",
    "version": 3
   },
   "file_extension": ".py",
   "mimetype": "text/x-python",
   "name": "python",
   "nbconvert_exporter": "python",
   "pygments_lexer": "ipython3",
   "version": "3.9.5"
  }
 },
 "nbformat": 4,
 "nbformat_minor": 5
}
