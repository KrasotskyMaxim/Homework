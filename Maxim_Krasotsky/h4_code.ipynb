{
 "cells": [
  {
   "cell_type": "code",
   "execution_count": 4,
   "id": "ca8db154",
   "metadata": {},
   "outputs": [],
   "source": [
    "# Task 4.1\n",
    "unsorted_names_file = open(\"data/unsorted_names.txt\", \"r\")\n",
    "unsorted_names = unsorted_names_file.readlines()\n",
    "unsorted_names_file.close()\n",
    "sorted_names = sorted(unsorted_names)\n",
    "with open(\"data/sorted_names.txt\", \"w\") as sorted_names_file:\n",
    "    sorted_names_file.writelines(sorted_names)"
   ]
  },
  {
   "cell_type": "code",
   "execution_count": 3,
   "id": "55d428b5",
   "metadata": {},
   "outputs": [
    {
     "name": "stdout",
     "output_type": "stream",
     "text": [
      "['donec', 'etiam', 'maecenas']\n"
     ]
    }
   ],
   "source": [
    "# Task 4.2\n",
    "from string import punctuation\n",
    "\n",
    "\n",
    "def most_common_word(path, number_of_words=3):\n",
    "    res = {}\n",
    "    with open(path, \"r\") as f:\n",
    "        for i in f.read().lower().split():\n",
    "            i.strip(punctuation)\n",
    "            if res.get(i) is None:\n",
    "                res[i] = 1\n",
    "            else:\n",
    "                res[i] += 1\n",
    "    res = sorted(res.items(), reverse=True, key=lambda x: x[1])\n",
    "    return [word[0] for word in res[:number_of_words]]\n",
    "\n",
    "\n",
    "print(most_common_word(\"data/lorem_ipsum.txt\"))"
   ]
  },
  {
   "cell_type": "code",
   "execution_count": 1,
   "id": "fd4d648a",
   "metadata": {},
   "outputs": [
    {
     "name": "stdout",
     "output_type": "stream",
     "text": [
      "['Josephina Medina', 'Teresa Jones', 'Richard Snider', 'Jessica Dubose', 'Heather Garcia']\n"
     ]
    }
   ],
   "source": [
    "# Task 4.3\n",
    "def get_top_performers(file_path, number_of_top_students=5):\n",
    "    data_about_students = []\n",
    "    student_mark = None\n",
    "    with open(file_path, \"r\") as f:\n",
    "        data_about_students = f.readlines()\n",
    "        data_about_students.pop(0)\n",
    "    data_about_students = [data.split(\",\") for data in data_about_students]\n",
    "    for student_data in data_about_students:\n",
    "        student_data[2] = float(student_data[2].replace(\"\\n\", \"\"))\n",
    "    sorted_data_about_students = sorted(data_about_students, key=lambda x: -x[2])\n",
    "    top_performers = [x[0] for x in sorted_data_about_students[:number_of_top_students]]\n",
    "    return top_performers\n",
    "\n",
    "\n",
    "def write_students(file_path):\n",
    "    with open(file_path, \"r\") as f:\n",
    "        data = f.readlines()\n",
    "        data.pop(0)\n",
    "    data = [d.split(\",\") for d in data]\n",
    "    sorted_data_about_students = sorted(data, key=lambda x: (-int(x[1]), -float(x[2].replace(\"\\n\", \"\"))))\n",
    "    sorted_data_about_students = [','.join(x) for x in sorted_data_about_students]\n",
    "    with open(\"data/sorted_students.csv\", \"w\") as s_f:\n",
    "        s_f.write(\"student name,age,average mark\\n\")\n",
    "        s_f.writelines(sorted_data_about_students)\n",
    "\n",
    "\n",
    "print(get_top_performers(\"data/students.csv\"))\n",
    "write_students(\"data/students.csv\")"
   ]
  },
  {
   "cell_type": "code",
   "execution_count": 7,
   "id": "5abe6e38",
   "metadata": {},
   "outputs": [
    {
     "name": "stdout",
     "output_type": "stream",
     "text": [
      "I am local variable!\n"
     ]
    }
   ],
   "source": [
    "# Task 4.4\n",
    "a = \"I am global variable!\"\n",
    "\n",
    "# 4.4(1)\n",
    "def enclosing_funcion():\n",
    "    a = \"I am variable from enclosed function!\"\n",
    "    def inner_function():\n",
    "        a = \"I am local variable!\"\n",
    "        print(a)\n",
    "    return inner_function()\n",
    "        \n",
    "\n",
    "enclosing_funcion()"
   ]
  },
  {
   "cell_type": "code",
   "execution_count": 10,
   "id": "5503c788",
   "metadata": {},
   "outputs": [
    {
     "name": "stdout",
     "output_type": "stream",
     "text": [
      "I am global variable!\n"
     ]
    }
   ],
   "source": [
    "# 4.4(2)\n",
    "def enclosing_funcion():\n",
    "    a = \"I am variable from enclosed function!\"\n",
    "    def inner_function():\n",
    "        global a\n",
    "        print(a)\n",
    "    return inner_function()\n",
    "\n",
    "\n",
    "enclosing_funcion()"
   ]
  },
  {
   "cell_type": "code",
   "execution_count": 12,
   "id": "29e896e6",
   "metadata": {},
   "outputs": [
    {
     "name": "stdout",
     "output_type": "stream",
     "text": [
      "I am variable from enclosed function!\n"
     ]
    }
   ],
   "source": [
    "# 4.4(3)\n",
    "def enclosing_funcion():\n",
    "    a = \"I am variable from enclosed function!\"\n",
    "    def inner_function():\n",
    "        nonlocal a\n",
    "        print(a)\n",
    "    return inner_function()\n",
    "\n",
    "\n",
    "enclosing_funcion()"
   ]
  },
  {
   "cell_type": "code",
   "execution_count": 9,
   "id": "d47b3a6f",
   "metadata": {},
   "outputs": [
    {
     "name": "stdout",
     "output_type": "stream",
     "text": [
      "Last result = None\n",
      "Current result = 'ab'\n",
      "Last result = ab\n",
      "Current result = 'abccde'\n",
      "Last result = abccde\n",
      "Current result = '12'\n"
     ]
    },
    {
     "data": {
      "text/plain": [
       "12"
      ]
     },
     "execution_count": 9,
     "metadata": {},
     "output_type": "execute_result"
    }
   ],
   "source": [
    "# Task 4.5\n",
    "def remember_result(func):\n",
    "    result = None\n",
    "\n",
    "    def wrapper(*args):\n",
    "        nonlocal result\n",
    "        print(f\"Last result = {result}\")\n",
    "        result = func(*args)\n",
    "        return result\n",
    "    return wrapper\n",
    "\n",
    "\n",
    "@remember_result\n",
    "def sum_list(*args):\n",
    "    result = None\n",
    "    if type(args[0]) == int:\n",
    "        result = 0\n",
    "        for item in args:\n",
    "            result += item\n",
    "    elif type(args[0]) == str:\n",
    "        result = \"\"\n",
    "        for item in args:\n",
    "            result += item\n",
    "    print(f\"Current result = '{result}'\")\n",
    "    return result\n",
    "\n",
    "\n",
    "sum_list(\"a\", \"b\")\n",
    "sum_list(\"abc\", \"cde\")\n",
    "sum_list(3, 4, 5)"
   ]
  },
  {
   "cell_type": "code",
   "execution_count": 13,
   "id": "cc083c71",
   "metadata": {},
   "outputs": [
    {
     "name": "stdout",
     "output_type": "stream",
     "text": [
      "55\n",
      "55\n",
      "55\n",
      "55\n"
     ]
    }
   ],
   "source": [
    "# Task 4.6\n",
    "def call_once(func):\n",
    "    result = None\n",
    "    def wrapper(*args):\n",
    "        nonlocal result\n",
    "        if result is None:\n",
    "            result = func(*args)\n",
    "        return result\n",
    "    return wrapper\n",
    "\n",
    "\n",
    "@call_once\n",
    "def sum_of_numbers(a, b):\n",
    "    return a + b\n",
    "\n",
    "\n",
    "print(sum_of_numbers(13, 42))\n",
    "print(sum_of_numbers(999, 100))\n",
    "print(sum_of_numbers(134, 412))\n",
    "print(sum_of_numbers(856, 232))"
   ]
  },
  {
   "cell_type": "code",
   "execution_count": 4,
   "id": "5c3c654b",
   "metadata": {},
   "outputs": [
    {
     "name": "stdout",
     "output_type": "stream",
     "text": [
      "5\n"
     ]
    }
   ],
   "source": [
    "# Task 4.7\n",
    "import sys\n",
    "sys.path.insert(0, \"/modules\")\n",
    "import mod_a\n",
    "\n",
    "print(mod_c.x)\n",
    "\n",
    "#Importing mod_c in mod_a.py (import mod_c), \n",
    "#we receive access to it variable 'x'"
   ]
  },
  {
   "cell_type": "code",
   "execution_count": 5,
   "id": "26ef985b",
   "metadata": {},
   "outputs": [
    {
     "name": "stdout",
     "output_type": "stream",
     "text": [
      "5\n",
      "[1, 2, 3]\n"
     ]
    }
   ],
   "source": [
    "from importlib import reload\n",
    "\n",
    "# x = [1, 2, 3]\n",
    "print(mod_c.x)\n",
    "reload(mod_c)\n",
    "print(mod_c.x)\n",
    "\n",
    "#We changed the value of the variable x in the mod_c.\n",
    "#We got the old result because we didn't \"reset\" the mod_c.\n",
    "#After reload(mod_c) we get a new value of x"
   ]
  },
  {
   "cell_type": "code",
   "execution_count": 6,
   "id": "56ecf0c5",
   "metadata": {},
   "outputs": [
    {
     "name": "stdout",
     "output_type": "stream",
     "text": [
      "[1, 2, 3]\n"
     ]
    }
   ],
   "source": [
    "from mod_a import *\n",
    "\n",
    "\n",
    "print(mod_c.x)"
   ]
  },
  {
   "cell_type": "code",
   "execution_count": 7,
   "id": "cd5a134b",
   "metadata": {},
   "outputs": [
    {
     "name": "stdout",
     "output_type": "stream",
     "text": [
      "[1, 2, 3]\n"
     ]
    }
   ],
   "source": [
    "from mod_b import *\n",
    "\n",
    "\n",
    "print(mod_c.x)"
   ]
  },
  {
   "cell_type": "code",
   "execution_count": 8,
   "id": "e50cdce9",
   "metadata": {},
   "outputs": [
    {
     "name": "stdout",
     "output_type": "stream",
     "text": [
      "[1, 2, 3]\n"
     ]
    }
   ],
   "source": [
    "from mod_c import *\n",
    "\n",
    "print(x)"
   ]
  },
  {
   "cell_type": "code",
   "execution_count": null,
   "id": "4e95c1c2",
   "metadata": {},
   "outputs": [],
   "source": [
    "#Importing all data from any module using * we get access to the variable x,\n",
    "#because it is in the module mod_c, \n",
    "#which is imported into the modules mod_a and mod_b"
   ]
  }
 ],
 "metadata": {
  "kernelspec": {
   "display_name": "Python 3 (ipykernel)",
   "language": "python",
   "name": "python3"
  },
  "language_info": {
   "codemirror_mode": {
    "name": "ipython",
    "version": 3
   },
   "file_extension": ".py",
   "mimetype": "text/x-python",
   "name": "python",
   "nbconvert_exporter": "python",
   "pygments_lexer": "ipython3",
   "version": "3.9.5"
  }
 },
 "nbformat": 4,
 "nbformat_minor": 5
}
