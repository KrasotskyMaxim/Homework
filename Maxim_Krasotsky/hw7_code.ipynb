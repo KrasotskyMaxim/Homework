{
 "cells": [
  {
   "cell_type": "code",
   "execution_count": 25,
   "id": "161e4cb9",
   "metadata": {},
   "outputs": [
    {
     "name": "stdout",
     "output_type": "stream",
     "text": [
      "Succesful open!\n",
      "Succesful close!\n",
      "\n",
      "Succesful open!\n",
      "Exception has been handled: \n",
      "An exception occurred in your with block: <class 'AttributeError'>\n",
      "Exception message: '_io.TextIOWrapper' object has no attribute 'writ'\n",
      "Traceback: <traceback object at 0x000001A9B23C70C0>\n",
      "Succesful close!\n"
     ]
    }
   ],
   "source": [
    "# Task 7.1\n",
    "class File:\n",
    "    def __init__(self, file_name, method):\n",
    "        self.file_obj = open(file_name, method)\n",
    "\n",
    "    def __enter__(self):\n",
    "        print(\"Succesful open!\")\n",
    "        return self.file_obj\n",
    "\n",
    "    def __exit__(self, exc_type, value, traceback):\n",
    "        if type is not None:\n",
    "            print(\"Exception has been handled: \")\n",
    "            print(\"An exception occurred in your with block:\", exc_type)\n",
    "            print(\"Exception message:\", value)\n",
    "            print(\"Traceback:\", traceback)\n",
    "        self.file_obj.close()\n",
    "        print(\"Succesful close!\")\n",
    "        return True\n",
    "\n",
    "\n",
    "with File(\"my_true_file_1.txt\", \"w\") as f:\n",
    "    f.write(\"Succes!\")\n",
    "print()\n",
    "with File(\"my_false_file_1.txt\", \"w\") as f:\n",
    "    f.writ(\"Error!\") # Exception: AttributeError"
   ]
  },
  {
   "cell_type": "code",
   "execution_count": 31,
   "id": "fc57f5e3",
   "metadata": {},
   "outputs": [
    {
     "name": "stdout",
     "output_type": "stream",
     "text": [
      "Opening file\n",
      "Some text...\n",
      "Closing file\n",
      "\n",
      "Opening file\n",
      "Closing file\n"
     ]
    },
    {
     "ename": "ValueError",
     "evalue": "invalid mode: 'R'",
     "output_type": "error",
     "traceback": [
      "\u001b[1;31m---------------------------------------------------------------------------\u001b[0m",
      "\u001b[1;31mValueError\u001b[0m                                Traceback (most recent call last)",
      "\u001b[1;32m~\\AppData\\Local\\Temp/ipykernel_3552/2733456617.py\u001b[0m in \u001b[0;36m<module>\u001b[1;34m\u001b[0m\n\u001b[0;32m     20\u001b[0m     \u001b[0mprint\u001b[0m\u001b[1;33m(\u001b[0m\u001b[0mf\u001b[0m\u001b[1;33m.\u001b[0m\u001b[0mread\u001b[0m\u001b[1;33m(\u001b[0m\u001b[1;33m)\u001b[0m\u001b[1;33m)\u001b[0m\u001b[1;33m\u001b[0m\u001b[1;33m\u001b[0m\u001b[0m\n\u001b[0;32m     21\u001b[0m \u001b[0mprint\u001b[0m\u001b[1;33m(\u001b[0m\u001b[1;33m)\u001b[0m\u001b[1;33m\u001b[0m\u001b[1;33m\u001b[0m\u001b[0m\n\u001b[1;32m---> 22\u001b[1;33m \u001b[1;32mwith\u001b[0m \u001b[0mwork_with_file\u001b[0m\u001b[1;33m(\u001b[0m\u001b[1;34m\"my_false_file_2.txt\"\u001b[0m\u001b[1;33m,\u001b[0m \u001b[1;34m\"R\"\u001b[0m\u001b[1;33m)\u001b[0m \u001b[1;32mas\u001b[0m \u001b[0mf\u001b[0m\u001b[1;33m:\u001b[0m \u001b[1;31m# Error\u001b[0m\u001b[1;33m\u001b[0m\u001b[1;33m\u001b[0m\u001b[0m\n\u001b[0m\u001b[0;32m     23\u001b[0m     \u001b[0mprint\u001b[0m\u001b[1;33m(\u001b[0m\u001b[0mf\u001b[0m\u001b[1;33m.\u001b[0m\u001b[0mread\u001b[0m\u001b[1;33m(\u001b[0m\u001b[1;33m)\u001b[0m\u001b[1;33m)\u001b[0m\u001b[1;33m\u001b[0m\u001b[1;33m\u001b[0m\u001b[0m\n",
      "\u001b[1;32m~\\miniconda3\\lib\\contextlib.py\u001b[0m in \u001b[0;36m__enter__\u001b[1;34m(self)\u001b[0m\n\u001b[0;32m    115\u001b[0m         \u001b[1;32mdel\u001b[0m \u001b[0mself\u001b[0m\u001b[1;33m.\u001b[0m\u001b[0margs\u001b[0m\u001b[1;33m,\u001b[0m \u001b[0mself\u001b[0m\u001b[1;33m.\u001b[0m\u001b[0mkwds\u001b[0m\u001b[1;33m,\u001b[0m \u001b[0mself\u001b[0m\u001b[1;33m.\u001b[0m\u001b[0mfunc\u001b[0m\u001b[1;33m\u001b[0m\u001b[1;33m\u001b[0m\u001b[0m\n\u001b[0;32m    116\u001b[0m         \u001b[1;32mtry\u001b[0m\u001b[1;33m:\u001b[0m\u001b[1;33m\u001b[0m\u001b[1;33m\u001b[0m\u001b[0m\n\u001b[1;32m--> 117\u001b[1;33m             \u001b[1;32mreturn\u001b[0m \u001b[0mnext\u001b[0m\u001b[1;33m(\u001b[0m\u001b[0mself\u001b[0m\u001b[1;33m.\u001b[0m\u001b[0mgen\u001b[0m\u001b[1;33m)\u001b[0m\u001b[1;33m\u001b[0m\u001b[1;33m\u001b[0m\u001b[0m\n\u001b[0m\u001b[0;32m    118\u001b[0m         \u001b[1;32mexcept\u001b[0m \u001b[0mStopIteration\u001b[0m\u001b[1;33m:\u001b[0m\u001b[1;33m\u001b[0m\u001b[1;33m\u001b[0m\u001b[0m\n\u001b[0;32m    119\u001b[0m             \u001b[1;32mraise\u001b[0m \u001b[0mRuntimeError\u001b[0m\u001b[1;33m(\u001b[0m\u001b[1;34m\"generator didn't yield\"\u001b[0m\u001b[1;33m)\u001b[0m \u001b[1;32mfrom\u001b[0m \u001b[1;32mNone\u001b[0m\u001b[1;33m\u001b[0m\u001b[1;33m\u001b[0m\u001b[0m\n",
      "\u001b[1;32m~\\AppData\\Local\\Temp/ipykernel_3552/2733456617.py\u001b[0m in \u001b[0;36mwork_with_file\u001b[1;34m(file_name, method)\u001b[0m\n\u001b[0;32m      7\u001b[0m     \u001b[1;32mtry\u001b[0m\u001b[1;33m:\u001b[0m\u001b[1;33m\u001b[0m\u001b[1;33m\u001b[0m\u001b[0m\n\u001b[0;32m      8\u001b[0m         \u001b[0mprint\u001b[0m\u001b[1;33m(\u001b[0m\u001b[1;34m\"Opening file\"\u001b[0m\u001b[1;33m)\u001b[0m\u001b[1;33m\u001b[0m\u001b[1;33m\u001b[0m\u001b[0m\n\u001b[1;32m----> 9\u001b[1;33m         \u001b[0mfile\u001b[0m \u001b[1;33m=\u001b[0m \u001b[0mopen\u001b[0m\u001b[1;33m(\u001b[0m\u001b[0mfile_name\u001b[0m\u001b[1;33m,\u001b[0m \u001b[0mmethod\u001b[0m\u001b[1;33m)\u001b[0m\u001b[1;33m\u001b[0m\u001b[1;33m\u001b[0m\u001b[0m\n\u001b[0m\u001b[0;32m     10\u001b[0m         \u001b[1;32myield\u001b[0m \u001b[0mfile\u001b[0m\u001b[1;33m\u001b[0m\u001b[1;33m\u001b[0m\u001b[0m\n\u001b[0;32m     11\u001b[0m     \u001b[1;32mexcept\u001b[0m \u001b[0mOSError\u001b[0m\u001b[1;33m:\u001b[0m\u001b[1;33m\u001b[0m\u001b[1;33m\u001b[0m\u001b[0m\n",
      "\u001b[1;31mValueError\u001b[0m: invalid mode: 'R'"
     ]
    }
   ],
   "source": [
    "# Task 7.2\n",
    "from contextlib import contextmanager\n",
    "\n",
    "@contextmanager\n",
    "def work_with_file(file_name, method):\n",
    "    file = None\n",
    "    try:\n",
    "        print(\"Opening file\")\n",
    "        file = open(file_name, method)\n",
    "        yield file\n",
    "    except OSError:\n",
    "        print(\"We had an error!\")\n",
    "    finally:\n",
    "        print(\"Closing file\")\n",
    "        if file:\n",
    "            file.close()\n",
    "        \n",
    "\n",
    "with work_with_file(\"my_true_file_2.txt\", \"r\") as f:\n",
    "    print(f.read())\n",
    "print()\n",
    "with work_with_file(\"my_false_file_2.txt\", \"R\") as f: # Error\n",
    "    print(f.read())"
   ]
  },
  {
   "cell_type": "code",
   "execution_count": 5,
   "id": "6a913e9a",
   "metadata": {},
   "outputs": [
    {
     "name": "stdout",
     "output_type": "stream",
     "text": [
      "Compiled in 0.1137796000000435 sec\n",
      "Compiled in 0.00034990000000334476 sec\n",
      "\n"
     ]
    }
   ],
   "source": [
    "# Task 7.3\n",
    "from time import perf_counter\n",
    "from contextlib import ContextDecorator\n",
    "\n",
    "\n",
    "class time_logger(ContextDecorator):\n",
    "    def __init__(self, file_name):\n",
    "        self.file_name = file_name\n",
    "\n",
    "    def __enter__(self):\n",
    "        self.start = perf_counter()\n",
    "\n",
    "    def __exit__(self, exc_type, value, traceback):\n",
    "        log_file = open(self.file_name, \"a\")\n",
    "        log_file.write(f\"Compiled in {perf_counter() - self.start} sec\\n\")\n",
    "        log_file.close()\n",
    "\n",
    "\n",
    "@time_logger(\"log_file.txt\")\n",
    "def pow_func(a, b):\n",
    "    return a ** b\n",
    "\n",
    "\n",
    "def mult_func(a, b):\n",
    "    return a * b\n",
    "\n",
    "\n",
    "pow_func(5000000, 100000)\n",
    "with time_logger(\"log_file.txt\"):\n",
    "    mult_func(5000000, 100000)\n",
    "    \n",
    "with open(\"log_file.txt\", \"r\") as f:\n",
    "    print(f.read())"
   ]
  },
  {
   "cell_type": "code",
   "execution_count": 19,
   "id": "46f74afe",
   "metadata": {},
   "outputs": [],
   "source": [
    "# Task 7.4\n",
    "from contextlib import suppress\n",
    "\n",
    "\n",
    "def ignore_exc(func):\n",
    "    def wrapper(*args, **kwargs):\n",
    "        with suppress(Exception):\n",
    "            result = func(*args, **kwargs)\n",
    "            print(\"Exception not occure!\")\n",
    "            return result\n",
    "    return wrapper\n",
    "\n",
    "\n",
    "@ignore_exc\n",
    "def func_1(a, b):\n",
    "    return a / b\n",
    "\n",
    "\n",
    "@ignore_exc\n",
    "def func_2(my_list, index):\n",
    "    return my_list[index]\n",
    "\n",
    "\n",
    "@ignore_exc\n",
    "def func_3(my_dict, key):\n",
    "    return my_dict[key]\n",
    "\n",
    "\n",
    "func_1(10, 0) "
   ]
  },
  {
   "cell_type": "code",
   "execution_count": 20,
   "id": "127ee055",
   "metadata": {},
   "outputs": [
    {
     "name": "stdout",
     "output_type": "stream",
     "text": [
      "Exception not occure!\n"
     ]
    },
    {
     "data": {
      "text/plain": [
       "10.0"
      ]
     },
     "execution_count": 20,
     "metadata": {},
     "output_type": "execute_result"
    }
   ],
   "source": [
    "func(10, 1)"
   ]
  },
  {
   "cell_type": "code",
   "execution_count": 21,
   "id": "024d436d",
   "metadata": {},
   "outputs": [],
   "source": [
    "func_2(['a', 'b', 'c'], 4)"
   ]
  },
  {
   "cell_type": "code",
   "execution_count": 22,
   "id": "77a28080",
   "metadata": {},
   "outputs": [
    {
     "name": "stdout",
     "output_type": "stream",
     "text": [
      "Exception not occure!\n"
     ]
    },
    {
     "data": {
      "text/plain": [
       "'b'"
      ]
     },
     "execution_count": 22,
     "metadata": {},
     "output_type": "execute_result"
    }
   ],
   "source": [
    "func_2(['a', 'b', 'c'], 1)"
   ]
  },
  {
   "cell_type": "code",
   "execution_count": 23,
   "id": "876b35a6",
   "metadata": {},
   "outputs": [],
   "source": [
    "func_3({\"cat\": \"Tom\"}, \"not_key\")"
   ]
  },
  {
   "cell_type": "code",
   "execution_count": 24,
   "id": "f7201f01",
   "metadata": {},
   "outputs": [
    {
     "name": "stdout",
     "output_type": "stream",
     "text": [
      "Exception not occure!\n"
     ]
    },
    {
     "data": {
      "text/plain": [
       "'Tom'"
      ]
     },
     "execution_count": 24,
     "metadata": {},
     "output_type": "execute_result"
    }
   ],
   "source": [
    "func_3({\"cat\": \"Tom\"}, \"cat\")"
   ]
  },
  {
   "cell_type": "code",
   "execution_count": 2,
   "id": "c81658ec",
   "metadata": {},
   "outputs": [
    {
     "ename": "NotIntValue",
     "evalue": "Number isn`t integer type!",
     "output_type": "error",
     "traceback": [
      "\u001b[1;31m---------------------------------------------------------------------------\u001b[0m",
      "\u001b[1;31mNotIntValue\u001b[0m                               Traceback (most recent call last)",
      "\u001b[1;32m~\\AppData\\Local\\Temp/ipykernel_2072/3566921149.py\u001b[0m in \u001b[0;36m<module>\u001b[1;34m\u001b[0m\n\u001b[0;32m     26\u001b[0m \u001b[1;33m\u001b[0m\u001b[0m\n\u001b[0;32m     27\u001b[0m \u001b[1;33m\u001b[0m\u001b[0m\n\u001b[1;32m---> 28\u001b[1;33m \u001b[0mfunc\u001b[0m\u001b[1;33m(\u001b[0m\u001b[1;36m1.01\u001b[0m\u001b[1;33m)\u001b[0m\u001b[1;33m\u001b[0m\u001b[1;33m\u001b[0m\u001b[0m\n\u001b[0m",
      "\u001b[1;32m~\\AppData\\Local\\Temp/ipykernel_2072/3566921149.py\u001b[0m in \u001b[0;36mfunc\u001b[1;34m(number)\u001b[0m\n\u001b[0;32m     18\u001b[0m \u001b[1;32mdef\u001b[0m \u001b[0mfunc\u001b[0m\u001b[1;33m(\u001b[0m\u001b[0mnumber\u001b[0m\u001b[1;33m)\u001b[0m\u001b[1;33m:\u001b[0m\u001b[1;33m\u001b[0m\u001b[1;33m\u001b[0m\u001b[0m\n\u001b[0;32m     19\u001b[0m     \u001b[1;32mif\u001b[0m \u001b[1;32mnot\u001b[0m \u001b[0misinstance\u001b[0m\u001b[1;33m(\u001b[0m\u001b[0mnumber\u001b[0m\u001b[1;33m,\u001b[0m \u001b[0mint\u001b[0m\u001b[1;33m)\u001b[0m\u001b[1;33m:\u001b[0m\u001b[1;33m\u001b[0m\u001b[1;33m\u001b[0m\u001b[0m\n\u001b[1;32m---> 20\u001b[1;33m         \u001b[1;32mraise\u001b[0m \u001b[0mNotIntValue\u001b[0m\u001b[1;33m(\u001b[0m\u001b[1;34m\"Number isn`t integer type!\"\u001b[0m\u001b[1;33m)\u001b[0m\u001b[1;33m\u001b[0m\u001b[1;33m\u001b[0m\u001b[0m\n\u001b[0m\u001b[0;32m     21\u001b[0m     \u001b[1;32mif\u001b[0m \u001b[0mnumber\u001b[0m \u001b[1;33m<\u001b[0m \u001b[1;36m3\u001b[0m\u001b[1;33m:\u001b[0m\u001b[1;33m\u001b[0m\u001b[1;33m\u001b[0m\u001b[0m\n\u001b[0;32m     22\u001b[0m         \u001b[1;32mraise\u001b[0m \u001b[0mNotGreaterThanTwo\u001b[0m\u001b[1;33m(\u001b[0m\u001b[1;34m\"Number isn`t greater than 2!\"\u001b[0m\u001b[1;33m)\u001b[0m\u001b[1;33m\u001b[0m\u001b[1;33m\u001b[0m\u001b[0m\n",
      "\u001b[1;31mNotIntValue\u001b[0m: Number isn`t integer type!"
     ]
    }
   ],
   "source": [
    "# Task 7.5\n",
    "class EvenError(ValueError):\n",
    "    pass\n",
    "\n",
    "\n",
    "class NotEvenValue(EvenError):\n",
    "    pass\n",
    "\n",
    "\n",
    "class NotIntValue(EvenError):\n",
    "    pass\n",
    "\n",
    "\n",
    "class NotGreaterThanTwo(EvenError):\n",
    "    pass\n",
    "\n",
    "\n",
    "def func(number):\n",
    "    if not isinstance(number, int):\n",
    "        raise NotIntValue(\"Number isn`t integer type!\")\n",
    "    if number < 3:\n",
    "        raise NotGreaterThanTwo(\"Number isn`t greater than 2!\")\n",
    "    if number % 2 != 0:\n",
    "        raise NotEvenValue(\"Number isn`t even!\")\n",
    "    return True\n",
    "        \n",
    "\n",
    "func(1.01)"
   ]
  },
  {
   "cell_type": "code",
   "execution_count": 9,
   "id": "95e6ff1f",
   "metadata": {},
   "outputs": [
    {
     "ename": "NotGreaterThanTwo",
     "evalue": "Number isn`t greater than 2!",
     "output_type": "error",
     "traceback": [
      "\u001b[1;31m---------------------------------------------------------------------------\u001b[0m",
      "\u001b[1;31mNotGreaterThanTwo\u001b[0m                         Traceback (most recent call last)",
      "\u001b[1;32m~\\AppData\\Local\\Temp/ipykernel_13444/1940889311.py\u001b[0m in \u001b[0;36m<module>\u001b[1;34m\u001b[0m\n\u001b[1;32m----> 1\u001b[1;33m \u001b[0mfunc\u001b[0m\u001b[1;33m(\u001b[0m\u001b[1;36m2\u001b[0m\u001b[1;33m)\u001b[0m\u001b[1;33m\u001b[0m\u001b[1;33m\u001b[0m\u001b[0m\n\u001b[0m\u001b[0;32m      2\u001b[0m \u001b[0mfunc\u001b[0m\u001b[1;33m(\u001b[0m\u001b[1;36m3\u001b[0m\u001b[1;33m)\u001b[0m\u001b[1;33m\u001b[0m\u001b[1;33m\u001b[0m\u001b[0m\n",
      "\u001b[1;32m~\\AppData\\Local\\Temp/ipykernel_13444/3598432633.py\u001b[0m in \u001b[0;36mfunc\u001b[1;34m(number)\u001b[0m\n\u001b[0;32m     20\u001b[0m         \u001b[1;32mraise\u001b[0m \u001b[0mNotIntValue\u001b[0m\u001b[1;33m(\u001b[0m\u001b[1;34m\"Number isn`t integer type!\"\u001b[0m\u001b[1;33m)\u001b[0m\u001b[1;33m\u001b[0m\u001b[1;33m\u001b[0m\u001b[0m\n\u001b[0;32m     21\u001b[0m     \u001b[1;32mif\u001b[0m \u001b[0mnumber\u001b[0m \u001b[1;33m<\u001b[0m \u001b[1;36m3\u001b[0m\u001b[1;33m:\u001b[0m\u001b[1;33m\u001b[0m\u001b[1;33m\u001b[0m\u001b[0m\n\u001b[1;32m---> 22\u001b[1;33m         \u001b[1;32mraise\u001b[0m \u001b[0mNotGreaterThanTwo\u001b[0m\u001b[1;33m(\u001b[0m\u001b[1;34m\"Number isn`t greater than 2!\"\u001b[0m\u001b[1;33m)\u001b[0m\u001b[1;33m\u001b[0m\u001b[1;33m\u001b[0m\u001b[0m\n\u001b[0m\u001b[0;32m     23\u001b[0m     \u001b[1;32mif\u001b[0m \u001b[0mnumber\u001b[0m \u001b[1;33m%\u001b[0m \u001b[1;36m2\u001b[0m \u001b[1;33m!=\u001b[0m \u001b[1;36m0\u001b[0m\u001b[1;33m:\u001b[0m\u001b[1;33m\u001b[0m\u001b[1;33m\u001b[0m\u001b[0m\n\u001b[0;32m     24\u001b[0m         \u001b[1;32mraise\u001b[0m \u001b[0mNotEvenValue\u001b[0m\u001b[1;33m(\u001b[0m\u001b[1;34m\"Number isn`t even!\"\u001b[0m\u001b[1;33m)\u001b[0m\u001b[1;33m\u001b[0m\u001b[1;33m\u001b[0m\u001b[0m\n",
      "\u001b[1;31mNotGreaterThanTwo\u001b[0m: Number isn`t greater than 2!"
     ]
    }
   ],
   "source": [
    "func(2)"
   ]
  },
  {
   "cell_type": "code",
   "execution_count": 10,
   "id": "17a93a45",
   "metadata": {},
   "outputs": [
    {
     "ename": "NotEvenValue",
     "evalue": "Number isn`t even!",
     "output_type": "error",
     "traceback": [
      "\u001b[1;31m---------------------------------------------------------------------------\u001b[0m",
      "\u001b[1;31mNotEvenValue\u001b[0m                              Traceback (most recent call last)",
      "\u001b[1;32m~\\AppData\\Local\\Temp/ipykernel_13444/2069180713.py\u001b[0m in \u001b[0;36m<module>\u001b[1;34m\u001b[0m\n\u001b[1;32m----> 1\u001b[1;33m \u001b[0mfunc\u001b[0m\u001b[1;33m(\u001b[0m\u001b[1;36m3\u001b[0m\u001b[1;33m)\u001b[0m\u001b[1;33m\u001b[0m\u001b[1;33m\u001b[0m\u001b[0m\n\u001b[0m",
      "\u001b[1;32m~\\AppData\\Local\\Temp/ipykernel_13444/3598432633.py\u001b[0m in \u001b[0;36mfunc\u001b[1;34m(number)\u001b[0m\n\u001b[0;32m     22\u001b[0m         \u001b[1;32mraise\u001b[0m \u001b[0mNotGreaterThanTwo\u001b[0m\u001b[1;33m(\u001b[0m\u001b[1;34m\"Number isn`t greater than 2!\"\u001b[0m\u001b[1;33m)\u001b[0m\u001b[1;33m\u001b[0m\u001b[1;33m\u001b[0m\u001b[0m\n\u001b[0;32m     23\u001b[0m     \u001b[1;32mif\u001b[0m \u001b[0mnumber\u001b[0m \u001b[1;33m%\u001b[0m \u001b[1;36m2\u001b[0m \u001b[1;33m!=\u001b[0m \u001b[1;36m0\u001b[0m\u001b[1;33m:\u001b[0m\u001b[1;33m\u001b[0m\u001b[1;33m\u001b[0m\u001b[0m\n\u001b[1;32m---> 24\u001b[1;33m         \u001b[1;32mraise\u001b[0m \u001b[0mNotEvenValue\u001b[0m\u001b[1;33m(\u001b[0m\u001b[1;34m\"Number isn`t even!\"\u001b[0m\u001b[1;33m)\u001b[0m\u001b[1;33m\u001b[0m\u001b[1;33m\u001b[0m\u001b[0m\n\u001b[0m\u001b[0;32m     25\u001b[0m     \u001b[1;32mreturn\u001b[0m \u001b[1;32mTrue\u001b[0m\u001b[1;33m\u001b[0m\u001b[1;33m\u001b[0m\u001b[0m\n\u001b[0;32m     26\u001b[0m \u001b[1;33m\u001b[0m\u001b[0m\n",
      "\u001b[1;31mNotEvenValue\u001b[0m: Number isn`t even!"
     ]
    }
   ],
   "source": [
    "func(3)"
   ]
  },
  {
   "cell_type": "code",
   "execution_count": 13,
   "id": "80007ca5",
   "metadata": {},
   "outputs": [
    {
     "data": {
      "text/plain": [
       "True"
      ]
     },
     "execution_count": 13,
     "metadata": {},
     "output_type": "execute_result"
    }
   ],
   "source": [
    "func(4)"
   ]
  },
  {
   "cell_type": "code",
   "execution_count": 8,
   "id": "e3a4b700",
   "metadata": {},
   "outputs": [
    {
     "name": "stdout",
     "output_type": "stream",
     "text": [
      "Enter your number: 10\n",
      "10 = 3 + 7\n",
      "Enter your number: 64\n",
      "64 = 3 + 61\n",
      "Enter your number: 124\n",
      "124 = 11 + 113\n",
      "Enter your number: q\n"
     ]
    }
   ],
   "source": [
    "# Task 7.6\n",
    "def goldbach_problem(number):\n",
    "    func(number) # function from Task 7.5\n",
    "    a = 2\n",
    "    b = None\n",
    "    while True:\n",
    "        if is_prime_number(a):\n",
    "            b = number - a\n",
    "            if is_prime_number(b):\n",
    "                return print(f\"{number} = {a} + {b}\")\n",
    "        a += 1\n",
    "\n",
    "        \n",
    "def is_prime_number(number):\n",
    "    for i in range(2, number):\n",
    "        if number % i == 0:\n",
    "            return False\n",
    "    return True\n",
    "\n",
    "\n",
    "while True:\n",
    "    if (number := input(\"Enter your number: \")) != 'q':\n",
    "        goldbach_problem(int(number))\n",
    "    else:\n",
    "        break"
   ]
  },
  {
   "cell_type": "code",
   "execution_count": 42,
   "id": "91d28463",
   "metadata": {},
   "outputs": [],
   "source": [
    "# Task 7.7\n",
    "class MyNumberCollection:\n",
    "    @staticmethod\n",
    "    def check_element_type(element):\n",
    "        if not isinstance(element, int):\n",
    "            raise TypeError(f\"{MyNumberCollection.__name__} supports only numbers! \\\n",
    "            {type(element)}({element}) - object isn`t a number!\")\n",
    "\n",
    "        \n",
    "        \n",
    "    @staticmethod\n",
    "    def create_collection(start, stop, step):\n",
    "        collection_list = []\n",
    "        if isinstance(start, tuple) or isinstance(start, list):\n",
    "            for el in start:\n",
    "                MyNumberCollection.check_element_type(el)\n",
    "            collection_list = list(start)\n",
    "        else:\n",
    "            collection_list = [x for x in range(start, stop, step)]\n",
    "            if stop not in collection_list:\n",
    "                collection_list.append(stop)\n",
    "        return collection_list\n",
    "        \n",
    "    \n",
    "    def append(self, number):\n",
    "        MyNumberCollection.check_element_type(number)\n",
    "        self.collection.append(number)\n",
    "    \n",
    "    \n",
    "    def __init__(self, start, stop=None, step=None):\n",
    "        self.collection = self.create_collection(start, stop, step)\n",
    "        \n",
    "        \n",
    "    def __repr__(self):\n",
    "        return str(self.collection)\n",
    "    \n",
    "    def __add__(self, other):\n",
    "        new_collection_list = self.collection + other.collection\n",
    "        return MyNumberCollection(new_collection_list)\n",
    "    \n",
    "    def __getitem__(self, index):\n",
    "        if not isinstance(index, int):\n",
    "            raise TypeError(\"The argument index has to be integer\")\n",
    "        if index >= len(self.collection):\n",
    "            raise IndexError(\"Index out of range\")\n",
    "        return self.collection[index]**2\n",
    "    \n",
    "    def __iter__(self):\n",
    "        self.__n = 0\n",
    "        return self\n",
    "    \n",
    "    def __next__(self):\n",
    "        if self.__n < len(self.collection):\n",
    "            result = self.collection[self.__n]\n",
    "            self.__n += 1\n",
    "            return result\n",
    "        else:\n",
    "            raise StopIteration\n",
    "        \n",
    "    "
   ]
  },
  {
   "cell_type": "code",
   "execution_count": 43,
   "id": "82b9edc0",
   "metadata": {},
   "outputs": [
    {
     "name": "stdout",
     "output_type": "stream",
     "text": [
      "[0, 2, 4, 5]\n"
     ]
    }
   ],
   "source": [
    "col1 = MyNumberCollection(0, 5, 2)\n",
    "print(col1)"
   ]
  },
  {
   "cell_type": "code",
   "execution_count": 44,
   "id": "85ac8378",
   "metadata": {},
   "outputs": [
    {
     "name": "stdout",
     "output_type": "stream",
     "text": [
      "[1, 2, 3, 4, 5]\n"
     ]
    }
   ],
   "source": [
    "col2 = MyNumberCollection((1,2,3,4,5))\n",
    "print(col2)"
   ]
  },
  {
   "cell_type": "code",
   "execution_count": 45,
   "id": "a5a9419e",
   "metadata": {},
   "outputs": [
    {
     "ename": "TypeError",
     "evalue": "MyNumberCollection supports only numbers!             <class 'str'>(4) - object isn`t a number!",
     "output_type": "error",
     "traceback": [
      "\u001b[1;31m---------------------------------------------------------------------------\u001b[0m",
      "\u001b[1;31mTypeError\u001b[0m                                 Traceback (most recent call last)",
      "\u001b[1;32m~\\AppData\\Local\\Temp/ipykernel_12304/1992210457.py\u001b[0m in \u001b[0;36m<module>\u001b[1;34m\u001b[0m\n\u001b[1;32m----> 1\u001b[1;33m \u001b[0mcol3\u001b[0m \u001b[1;33m=\u001b[0m \u001b[0mMyNumberCollection\u001b[0m\u001b[1;33m(\u001b[0m\u001b[1;33m(\u001b[0m\u001b[1;36m1\u001b[0m\u001b[1;33m,\u001b[0m\u001b[1;36m2\u001b[0m\u001b[1;33m,\u001b[0m\u001b[1;36m3\u001b[0m\u001b[1;33m,\u001b[0m\u001b[1;34m\"4\"\u001b[0m\u001b[1;33m,\u001b[0m\u001b[1;36m5\u001b[0m\u001b[1;33m)\u001b[0m\u001b[1;33m)\u001b[0m\u001b[1;33m\u001b[0m\u001b[1;33m\u001b[0m\u001b[0m\n\u001b[0m",
      "\u001b[1;32m~\\AppData\\Local\\Temp/ipykernel_12304/1020035343.py\u001b[0m in \u001b[0;36m__init__\u001b[1;34m(self, start, stop, step)\u001b[0m\n\u001b[0;32m     29\u001b[0m \u001b[1;33m\u001b[0m\u001b[0m\n\u001b[0;32m     30\u001b[0m     \u001b[1;32mdef\u001b[0m \u001b[0m__init__\u001b[0m\u001b[1;33m(\u001b[0m\u001b[0mself\u001b[0m\u001b[1;33m,\u001b[0m \u001b[0mstart\u001b[0m\u001b[1;33m,\u001b[0m \u001b[0mstop\u001b[0m\u001b[1;33m=\u001b[0m\u001b[1;32mNone\u001b[0m\u001b[1;33m,\u001b[0m \u001b[0mstep\u001b[0m\u001b[1;33m=\u001b[0m\u001b[1;32mNone\u001b[0m\u001b[1;33m)\u001b[0m\u001b[1;33m:\u001b[0m\u001b[1;33m\u001b[0m\u001b[1;33m\u001b[0m\u001b[0m\n\u001b[1;32m---> 31\u001b[1;33m         \u001b[0mself\u001b[0m\u001b[1;33m.\u001b[0m\u001b[0mcollection\u001b[0m \u001b[1;33m=\u001b[0m \u001b[0mself\u001b[0m\u001b[1;33m.\u001b[0m\u001b[0mcreate_collection\u001b[0m\u001b[1;33m(\u001b[0m\u001b[0mstart\u001b[0m\u001b[1;33m,\u001b[0m \u001b[0mstop\u001b[0m\u001b[1;33m,\u001b[0m \u001b[0mstep\u001b[0m\u001b[1;33m)\u001b[0m\u001b[1;33m\u001b[0m\u001b[1;33m\u001b[0m\u001b[0m\n\u001b[0m\u001b[0;32m     32\u001b[0m \u001b[1;33m\u001b[0m\u001b[0m\n\u001b[0;32m     33\u001b[0m \u001b[1;33m\u001b[0m\u001b[0m\n",
      "\u001b[1;32m~\\AppData\\Local\\Temp/ipykernel_12304/1020035343.py\u001b[0m in \u001b[0;36mcreate_collection\u001b[1;34m(start, stop, step)\u001b[0m\n\u001b[0;32m     14\u001b[0m         \u001b[1;32mif\u001b[0m \u001b[0misinstance\u001b[0m\u001b[1;33m(\u001b[0m\u001b[0mstart\u001b[0m\u001b[1;33m,\u001b[0m \u001b[0mtuple\u001b[0m\u001b[1;33m)\u001b[0m \u001b[1;32mor\u001b[0m \u001b[0misinstance\u001b[0m\u001b[1;33m(\u001b[0m\u001b[0mstart\u001b[0m\u001b[1;33m,\u001b[0m \u001b[0mlist\u001b[0m\u001b[1;33m)\u001b[0m\u001b[1;33m:\u001b[0m\u001b[1;33m\u001b[0m\u001b[1;33m\u001b[0m\u001b[0m\n\u001b[0;32m     15\u001b[0m             \u001b[1;32mfor\u001b[0m \u001b[0mel\u001b[0m \u001b[1;32min\u001b[0m \u001b[0mstart\u001b[0m\u001b[1;33m:\u001b[0m\u001b[1;33m\u001b[0m\u001b[1;33m\u001b[0m\u001b[0m\n\u001b[1;32m---> 16\u001b[1;33m                 \u001b[0mMyNumberCollection\u001b[0m\u001b[1;33m.\u001b[0m\u001b[0mcheck_element_type\u001b[0m\u001b[1;33m(\u001b[0m\u001b[0mel\u001b[0m\u001b[1;33m)\u001b[0m\u001b[1;33m\u001b[0m\u001b[1;33m\u001b[0m\u001b[0m\n\u001b[0m\u001b[0;32m     17\u001b[0m             \u001b[0mcollection_list\u001b[0m \u001b[1;33m=\u001b[0m \u001b[0mlist\u001b[0m\u001b[1;33m(\u001b[0m\u001b[0mstart\u001b[0m\u001b[1;33m)\u001b[0m\u001b[1;33m\u001b[0m\u001b[1;33m\u001b[0m\u001b[0m\n\u001b[0;32m     18\u001b[0m         \u001b[1;32melse\u001b[0m\u001b[1;33m:\u001b[0m\u001b[1;33m\u001b[0m\u001b[1;33m\u001b[0m\u001b[0m\n",
      "\u001b[1;32m~\\AppData\\Local\\Temp/ipykernel_12304/1020035343.py\u001b[0m in \u001b[0;36mcheck_element_type\u001b[1;34m(element)\u001b[0m\n\u001b[0;32m      4\u001b[0m     \u001b[1;32mdef\u001b[0m \u001b[0mcheck_element_type\u001b[0m\u001b[1;33m(\u001b[0m\u001b[0melement\u001b[0m\u001b[1;33m)\u001b[0m\u001b[1;33m:\u001b[0m\u001b[1;33m\u001b[0m\u001b[1;33m\u001b[0m\u001b[0m\n\u001b[0;32m      5\u001b[0m         \u001b[1;32mif\u001b[0m \u001b[1;32mnot\u001b[0m \u001b[0misinstance\u001b[0m\u001b[1;33m(\u001b[0m\u001b[0melement\u001b[0m\u001b[1;33m,\u001b[0m \u001b[0mint\u001b[0m\u001b[1;33m)\u001b[0m\u001b[1;33m:\u001b[0m\u001b[1;33m\u001b[0m\u001b[1;33m\u001b[0m\u001b[0m\n\u001b[1;32m----> 6\u001b[1;33m             raise TypeError(f\"{MyNumberCollection.__name__} supports only numbers! \\\n\u001b[0m\u001b[0;32m      7\u001b[0m             {type(element)}({element}) - object isn`t a number!\")\n\u001b[0;32m      8\u001b[0m \u001b[1;33m\u001b[0m\u001b[0m\n",
      "\u001b[1;31mTypeError\u001b[0m: MyNumberCollection supports only numbers!             <class 'str'>(4) - object isn`t a number!"
     ]
    }
   ],
   "source": [
    "col3 = MyNumberCollection((1,2,3,\"4\",5))"
   ]
  },
  {
   "cell_type": "code",
   "execution_count": 46,
   "id": "65f77fdc",
   "metadata": {},
   "outputs": [
    {
     "name": "stdout",
     "output_type": "stream",
     "text": [
      "[0, 2, 4, 5, 7]\n"
     ]
    }
   ],
   "source": [
    "col1.append(7)\n",
    "print(col1)"
   ]
  },
  {
   "cell_type": "code",
   "execution_count": 47,
   "id": "31e395c4",
   "metadata": {},
   "outputs": [
    {
     "ename": "TypeError",
     "evalue": "MyNumberCollection supports only numbers!             <class 'str'>(string) - object isn`t a number!",
     "output_type": "error",
     "traceback": [
      "\u001b[1;31m---------------------------------------------------------------------------\u001b[0m",
      "\u001b[1;31mTypeError\u001b[0m                                 Traceback (most recent call last)",
      "\u001b[1;32m~\\AppData\\Local\\Temp/ipykernel_12304/608809070.py\u001b[0m in \u001b[0;36m<module>\u001b[1;34m\u001b[0m\n\u001b[1;32m----> 1\u001b[1;33m \u001b[0mcol2\u001b[0m\u001b[1;33m.\u001b[0m\u001b[0mappend\u001b[0m\u001b[1;33m(\u001b[0m\u001b[1;34m\"string\"\u001b[0m\u001b[1;33m)\u001b[0m\u001b[1;33m\u001b[0m\u001b[1;33m\u001b[0m\u001b[0m\n\u001b[0m",
      "\u001b[1;32m~\\AppData\\Local\\Temp/ipykernel_12304/1020035343.py\u001b[0m in \u001b[0;36mappend\u001b[1;34m(self, number)\u001b[0m\n\u001b[0;32m     24\u001b[0m \u001b[1;33m\u001b[0m\u001b[0m\n\u001b[0;32m     25\u001b[0m     \u001b[1;32mdef\u001b[0m \u001b[0mappend\u001b[0m\u001b[1;33m(\u001b[0m\u001b[0mself\u001b[0m\u001b[1;33m,\u001b[0m \u001b[0mnumber\u001b[0m\u001b[1;33m)\u001b[0m\u001b[1;33m:\u001b[0m\u001b[1;33m\u001b[0m\u001b[1;33m\u001b[0m\u001b[0m\n\u001b[1;32m---> 26\u001b[1;33m         \u001b[0mMyNumberCollection\u001b[0m\u001b[1;33m.\u001b[0m\u001b[0mcheck_element_type\u001b[0m\u001b[1;33m(\u001b[0m\u001b[0mnumber\u001b[0m\u001b[1;33m)\u001b[0m\u001b[1;33m\u001b[0m\u001b[1;33m\u001b[0m\u001b[0m\n\u001b[0m\u001b[0;32m     27\u001b[0m         \u001b[0mself\u001b[0m\u001b[1;33m.\u001b[0m\u001b[0mcollection\u001b[0m\u001b[1;33m.\u001b[0m\u001b[0mappend\u001b[0m\u001b[1;33m(\u001b[0m\u001b[0mnumber\u001b[0m\u001b[1;33m)\u001b[0m\u001b[1;33m\u001b[0m\u001b[1;33m\u001b[0m\u001b[0m\n\u001b[0;32m     28\u001b[0m \u001b[1;33m\u001b[0m\u001b[0m\n",
      "\u001b[1;32m~\\AppData\\Local\\Temp/ipykernel_12304/1020035343.py\u001b[0m in \u001b[0;36mcheck_element_type\u001b[1;34m(element)\u001b[0m\n\u001b[0;32m      4\u001b[0m     \u001b[1;32mdef\u001b[0m \u001b[0mcheck_element_type\u001b[0m\u001b[1;33m(\u001b[0m\u001b[0melement\u001b[0m\u001b[1;33m)\u001b[0m\u001b[1;33m:\u001b[0m\u001b[1;33m\u001b[0m\u001b[1;33m\u001b[0m\u001b[0m\n\u001b[0;32m      5\u001b[0m         \u001b[1;32mif\u001b[0m \u001b[1;32mnot\u001b[0m \u001b[0misinstance\u001b[0m\u001b[1;33m(\u001b[0m\u001b[0melement\u001b[0m\u001b[1;33m,\u001b[0m \u001b[0mint\u001b[0m\u001b[1;33m)\u001b[0m\u001b[1;33m:\u001b[0m\u001b[1;33m\u001b[0m\u001b[1;33m\u001b[0m\u001b[0m\n\u001b[1;32m----> 6\u001b[1;33m             raise TypeError(f\"{MyNumberCollection.__name__} supports only numbers! \\\n\u001b[0m\u001b[0;32m      7\u001b[0m             {type(element)}({element}) - object isn`t a number!\")\n\u001b[0;32m      8\u001b[0m \u001b[1;33m\u001b[0m\u001b[0m\n",
      "\u001b[1;31mTypeError\u001b[0m: MyNumberCollection supports only numbers!             <class 'str'>(string) - object isn`t a number!"
     ]
    }
   ],
   "source": [
    "col2.append(\"string\")"
   ]
  },
  {
   "cell_type": "code",
   "execution_count": 48,
   "id": "cc4ac9f7",
   "metadata": {},
   "outputs": [
    {
     "name": "stdout",
     "output_type": "stream",
     "text": [
      "[0, 2, 4, 5, 7, 1, 2, 3, 4, 5]\n"
     ]
    }
   ],
   "source": [
    "print(col1 + col2)"
   ]
  },
  {
   "cell_type": "code",
   "execution_count": 49,
   "id": "d817382f",
   "metadata": {},
   "outputs": [
    {
     "name": "stdout",
     "output_type": "stream",
     "text": [
      "[0, 2, 4, 5, 7]\n"
     ]
    }
   ],
   "source": [
    "print(col1)"
   ]
  },
  {
   "cell_type": "code",
   "execution_count": 50,
   "id": "ed7d2e9e",
   "metadata": {},
   "outputs": [
    {
     "name": "stdout",
     "output_type": "stream",
     "text": [
      "[1, 2, 3, 4, 5]\n"
     ]
    }
   ],
   "source": [
    "print(col2)"
   ]
  },
  {
   "cell_type": "code",
   "execution_count": 51,
   "id": "be0aa491",
   "metadata": {},
   "outputs": [
    {
     "name": "stdout",
     "output_type": "stream",
     "text": [
      "25\n"
     ]
    }
   ],
   "source": [
    "print(col2[4])"
   ]
  },
  {
   "cell_type": "code",
   "execution_count": 52,
   "id": "4e70c80d",
   "metadata": {},
   "outputs": [
    {
     "ename": "IndexError",
     "evalue": "Index out of range",
     "output_type": "error",
     "traceback": [
      "\u001b[1;31m---------------------------------------------------------------------------\u001b[0m",
      "\u001b[1;31mIndexError\u001b[0m                                Traceback (most recent call last)",
      "\u001b[1;32m~\\AppData\\Local\\Temp/ipykernel_12304/3894676684.py\u001b[0m in \u001b[0;36m<module>\u001b[1;34m\u001b[0m\n\u001b[1;32m----> 1\u001b[1;33m \u001b[0mprint\u001b[0m\u001b[1;33m(\u001b[0m\u001b[0mcol2\u001b[0m\u001b[1;33m[\u001b[0m\u001b[1;36m10\u001b[0m\u001b[1;33m]\u001b[0m\u001b[1;33m)\u001b[0m\u001b[1;33m\u001b[0m\u001b[1;33m\u001b[0m\u001b[0m\n\u001b[0m",
      "\u001b[1;32m~\\AppData\\Local\\Temp/ipykernel_12304/1020035343.py\u001b[0m in \u001b[0;36m__getitem__\u001b[1;34m(self, index)\u001b[0m\n\u001b[0;32m     43\u001b[0m             \u001b[1;32mraise\u001b[0m \u001b[0mTypeError\u001b[0m\u001b[1;33m(\u001b[0m\u001b[1;34m\"The argument index has to be integer\"\u001b[0m\u001b[1;33m)\u001b[0m\u001b[1;33m\u001b[0m\u001b[1;33m\u001b[0m\u001b[0m\n\u001b[0;32m     44\u001b[0m         \u001b[1;32mif\u001b[0m \u001b[0mindex\u001b[0m \u001b[1;33m>=\u001b[0m \u001b[0mlen\u001b[0m\u001b[1;33m(\u001b[0m\u001b[0mself\u001b[0m\u001b[1;33m.\u001b[0m\u001b[0mcollection\u001b[0m\u001b[1;33m)\u001b[0m\u001b[1;33m:\u001b[0m\u001b[1;33m\u001b[0m\u001b[1;33m\u001b[0m\u001b[0m\n\u001b[1;32m---> 45\u001b[1;33m             \u001b[1;32mraise\u001b[0m \u001b[0mIndexError\u001b[0m\u001b[1;33m(\u001b[0m\u001b[1;34m\"Index out of range\"\u001b[0m\u001b[1;33m)\u001b[0m\u001b[1;33m\u001b[0m\u001b[1;33m\u001b[0m\u001b[0m\n\u001b[0m\u001b[0;32m     46\u001b[0m         \u001b[1;32mreturn\u001b[0m \u001b[0mself\u001b[0m\u001b[1;33m.\u001b[0m\u001b[0mcollection\u001b[0m\u001b[1;33m[\u001b[0m\u001b[0mindex\u001b[0m\u001b[1;33m]\u001b[0m\u001b[1;33m**\u001b[0m\u001b[1;36m2\u001b[0m\u001b[1;33m\u001b[0m\u001b[1;33m\u001b[0m\u001b[0m\n\u001b[0;32m     47\u001b[0m \u001b[1;33m\u001b[0m\u001b[0m\n",
      "\u001b[1;31mIndexError\u001b[0m: Index out of range"
     ]
    }
   ],
   "source": [
    "print(col2[10])"
   ]
  },
  {
   "cell_type": "code",
   "execution_count": 53,
   "id": "ca4d5324",
   "metadata": {},
   "outputs": [
    {
     "name": "stdout",
     "output_type": "stream",
     "text": [
      "0 2 4 5 7 "
     ]
    }
   ],
   "source": [
    "for item in col1:\n",
    "    print(item, end=\" \")"
   ]
  },
  {
   "cell_type": "code",
   "execution_count": 11,
   "id": "bedf830e",
   "metadata": {},
   "outputs": [
    {
     "name": "stdout",
     "output_type": "stream",
     "text": [
      "1\n",
      "4\n",
      "9\n",
      "16\n",
      "25\n"
     ]
    }
   ],
   "source": [
    "# Task 7.8\n",
    "class MySquareIterator:\n",
    "    def __init__(self, numbers):\n",
    "        self.numbers = numbers\n",
    "        self.stop = len(numbers)\n",
    "        \n",
    "    def __iter__(self):\n",
    "        self.n = 0\n",
    "        return self\n",
    "    \n",
    "    def __next__(self):\n",
    "        if self.n < self.stop:\n",
    "            result = self.numbers[self.n]**2\n",
    "            self.n += 1\n",
    "            return result\n",
    "        else:\n",
    "            raise StopIteration\n",
    "            \n",
    "            \n",
    "lst = [1, 2, 3, 4, 5]\n",
    "itr = MySquareIterator(lst)\n",
    "for item in itr:\n",
    "    print(item)"
   ]
  },
  {
   "cell_type": "code",
   "execution_count": 56,
   "id": "1985e251",
   "metadata": {},
   "outputs": [
    {
     "data": {
      "text/plain": [
       "8"
      ]
     },
     "execution_count": 56,
     "metadata": {},
     "output_type": "execute_result"
    }
   ],
   "source": [
    "# Task 7.9\n",
    "class EvenRange:\n",
    "    def __init__(self, start, stop):\n",
    "        self.start = start if start % 2 == 0 else start + 1\n",
    "        self.stop = stop\n",
    "        self.n = self.start\n",
    "    \n",
    "    def __iter__(self):\n",
    "        return self\n",
    "    \n",
    "    def __next__(self):\n",
    "        result = self.n\n",
    "        if self.n >= self.stop:\n",
    "            print(\"Out of numbers!\")\n",
    "            raise StopIteration(\"Out of numbers!\")\n",
    "        self.n += 2\n",
    "        return result\n",
    "        \n",
    "        \n",
    "er1 = EvenRange(7,11)\n",
    "next(er1)"
   ]
  },
  {
   "cell_type": "code",
   "execution_count": 57,
   "id": "164a39fb",
   "metadata": {},
   "outputs": [
    {
     "data": {
      "text/plain": [
       "10"
      ]
     },
     "execution_count": 57,
     "metadata": {},
     "output_type": "execute_result"
    }
   ],
   "source": [
    "next(er1)"
   ]
  },
  {
   "cell_type": "code",
   "execution_count": 58,
   "id": "3857e3d5",
   "metadata": {},
   "outputs": [
    {
     "name": "stdout",
     "output_type": "stream",
     "text": [
      "Out of numbers!\n"
     ]
    },
    {
     "ename": "StopIteration",
     "evalue": "Out of numbers!",
     "output_type": "error",
     "traceback": [
      "\u001b[1;31m---------------------------------------------------------------------------\u001b[0m",
      "\u001b[1;31mStopIteration\u001b[0m                             Traceback (most recent call last)",
      "\u001b[1;32m~\\AppData\\Local\\Temp/ipykernel_2072/1869774851.py\u001b[0m in \u001b[0;36m<module>\u001b[1;34m\u001b[0m\n\u001b[1;32m----> 1\u001b[1;33m \u001b[0mnext\u001b[0m\u001b[1;33m(\u001b[0m\u001b[0mer1\u001b[0m\u001b[1;33m)\u001b[0m\u001b[1;33m\u001b[0m\u001b[1;33m\u001b[0m\u001b[0m\n\u001b[0m",
      "\u001b[1;32m~\\AppData\\Local\\Temp/ipykernel_2072/1867919874.py\u001b[0m in \u001b[0;36m__next__\u001b[1;34m(self)\u001b[0m\n\u001b[0;32m     13\u001b[0m         \u001b[1;32mif\u001b[0m \u001b[0mself\u001b[0m\u001b[1;33m.\u001b[0m\u001b[0mn\u001b[0m \u001b[1;33m>=\u001b[0m \u001b[0mself\u001b[0m\u001b[1;33m.\u001b[0m\u001b[0mstop\u001b[0m\u001b[1;33m:\u001b[0m\u001b[1;33m\u001b[0m\u001b[1;33m\u001b[0m\u001b[0m\n\u001b[0;32m     14\u001b[0m             \u001b[0mprint\u001b[0m\u001b[1;33m(\u001b[0m\u001b[1;34m\"Out of numbers!\"\u001b[0m\u001b[1;33m)\u001b[0m\u001b[1;33m\u001b[0m\u001b[1;33m\u001b[0m\u001b[0m\n\u001b[1;32m---> 15\u001b[1;33m             \u001b[1;32mraise\u001b[0m \u001b[0mStopIteration\u001b[0m\u001b[1;33m(\u001b[0m\u001b[1;34m\"Out of numbers!\"\u001b[0m\u001b[1;33m)\u001b[0m\u001b[1;33m\u001b[0m\u001b[1;33m\u001b[0m\u001b[0m\n\u001b[0m\u001b[0;32m     16\u001b[0m         \u001b[0mself\u001b[0m\u001b[1;33m.\u001b[0m\u001b[0mn\u001b[0m \u001b[1;33m+=\u001b[0m \u001b[1;36m2\u001b[0m\u001b[1;33m\u001b[0m\u001b[1;33m\u001b[0m\u001b[0m\n\u001b[0;32m     17\u001b[0m         \u001b[1;32mreturn\u001b[0m \u001b[0mresult\u001b[0m\u001b[1;33m\u001b[0m\u001b[1;33m\u001b[0m\u001b[0m\n",
      "\u001b[1;31mStopIteration\u001b[0m: Out of numbers!"
     ]
    }
   ],
   "source": [
    "next(er1)"
   ]
  },
  {
   "cell_type": "code",
   "execution_count": 59,
   "id": "46b88e9c",
   "metadata": {},
   "outputs": [
    {
     "name": "stdout",
     "output_type": "stream",
     "text": [
      "Out of numbers!\n"
     ]
    },
    {
     "ename": "StopIteration",
     "evalue": "Out of numbers!",
     "output_type": "error",
     "traceback": [
      "\u001b[1;31m---------------------------------------------------------------------------\u001b[0m",
      "\u001b[1;31mStopIteration\u001b[0m                             Traceback (most recent call last)",
      "\u001b[1;32m~\\AppData\\Local\\Temp/ipykernel_2072/1869774851.py\u001b[0m in \u001b[0;36m<module>\u001b[1;34m\u001b[0m\n\u001b[1;32m----> 1\u001b[1;33m \u001b[0mnext\u001b[0m\u001b[1;33m(\u001b[0m\u001b[0mer1\u001b[0m\u001b[1;33m)\u001b[0m\u001b[1;33m\u001b[0m\u001b[1;33m\u001b[0m\u001b[0m\n\u001b[0m",
      "\u001b[1;32m~\\AppData\\Local\\Temp/ipykernel_2072/1867919874.py\u001b[0m in \u001b[0;36m__next__\u001b[1;34m(self)\u001b[0m\n\u001b[0;32m     13\u001b[0m         \u001b[1;32mif\u001b[0m \u001b[0mself\u001b[0m\u001b[1;33m.\u001b[0m\u001b[0mn\u001b[0m \u001b[1;33m>=\u001b[0m \u001b[0mself\u001b[0m\u001b[1;33m.\u001b[0m\u001b[0mstop\u001b[0m\u001b[1;33m:\u001b[0m\u001b[1;33m\u001b[0m\u001b[1;33m\u001b[0m\u001b[0m\n\u001b[0;32m     14\u001b[0m             \u001b[0mprint\u001b[0m\u001b[1;33m(\u001b[0m\u001b[1;34m\"Out of numbers!\"\u001b[0m\u001b[1;33m)\u001b[0m\u001b[1;33m\u001b[0m\u001b[1;33m\u001b[0m\u001b[0m\n\u001b[1;32m---> 15\u001b[1;33m             \u001b[1;32mraise\u001b[0m \u001b[0mStopIteration\u001b[0m\u001b[1;33m(\u001b[0m\u001b[1;34m\"Out of numbers!\"\u001b[0m\u001b[1;33m)\u001b[0m\u001b[1;33m\u001b[0m\u001b[1;33m\u001b[0m\u001b[0m\n\u001b[0m\u001b[0;32m     16\u001b[0m         \u001b[0mself\u001b[0m\u001b[1;33m.\u001b[0m\u001b[0mn\u001b[0m \u001b[1;33m+=\u001b[0m \u001b[1;36m2\u001b[0m\u001b[1;33m\u001b[0m\u001b[1;33m\u001b[0m\u001b[0m\n\u001b[0;32m     17\u001b[0m         \u001b[1;32mreturn\u001b[0m \u001b[0mresult\u001b[0m\u001b[1;33m\u001b[0m\u001b[1;33m\u001b[0m\u001b[0m\n",
      "\u001b[1;31mStopIteration\u001b[0m: Out of numbers!"
     ]
    }
   ],
   "source": [
    "next(er1)"
   ]
  },
  {
   "cell_type": "code",
   "execution_count": 55,
   "id": "4c6437ad",
   "metadata": {},
   "outputs": [
    {
     "name": "stdout",
     "output_type": "stream",
     "text": [
      "4 6 8 10 12 Out of numbers!\n"
     ]
    }
   ],
   "source": [
    "er2 = EvenRange(3, 14)\n",
    "for number in er2:\n",
    "    print(number, end = \" \")"
   ]
  },
  {
   "cell_type": "code",
   "execution_count": 60,
   "id": "823d9098",
   "metadata": {
    "scrolled": true
   },
   "outputs": [
    {
     "name": "stdout",
     "output_type": "stream",
     "text": [
      "1\n",
      "3\n",
      "5\n",
      "7\n",
      "9\n",
      "11\n",
      "13\n",
      "15\n",
      "17\n",
      "19\n",
      "21\n",
      "23\n",
      "25\n",
      "27\n",
      "29\n",
      "31\n",
      "33\n",
      "35\n",
      "37\n",
      "39\n",
      "41\n",
      "43\n",
      "45\n",
      "47\n",
      "49\n",
      "51\n",
      "53\n",
      "55\n",
      "57\n",
      "59\n"
     ]
    },
    {
     "ename": "KeyboardInterrupt",
     "evalue": "",
     "output_type": "error",
     "traceback": [
      "\u001b[1;31m---------------------------------------------------------------------------\u001b[0m",
      "\u001b[1;31mKeyboardInterrupt\u001b[0m                         Traceback (most recent call last)",
      "\u001b[1;32m~\\AppData\\Local\\Temp/ipykernel_2072/127006057.py\u001b[0m in \u001b[0;36m<module>\u001b[1;34m\u001b[0m\n\u001b[0;32m     12\u001b[0m \u001b[1;32mwhile\u001b[0m \u001b[1;32mTrue\u001b[0m\u001b[1;33m:\u001b[0m\u001b[1;33m\u001b[0m\u001b[1;33m\u001b[0m\u001b[0m\n\u001b[0;32m     13\u001b[0m     \u001b[0mprint\u001b[0m\u001b[1;33m(\u001b[0m\u001b[0mnext\u001b[0m\u001b[1;33m(\u001b[0m\u001b[0mgen\u001b[0m\u001b[1;33m)\u001b[0m\u001b[1;33m)\u001b[0m\u001b[1;33m\u001b[0m\u001b[1;33m\u001b[0m\u001b[0m\n\u001b[1;32m---> 14\u001b[1;33m     \u001b[0msleep\u001b[0m\u001b[1;33m(\u001b[0m\u001b[1;36m1\u001b[0m\u001b[1;33m)\u001b[0m\u001b[1;33m\u001b[0m\u001b[1;33m\u001b[0m\u001b[0m\n\u001b[0m",
      "\u001b[1;31mKeyboardInterrupt\u001b[0m: "
     ]
    }
   ],
   "source": [
    "# Task 7.10\n",
    "from time import sleep\n",
    "\n",
    "\n",
    "def endless_generator(odd=1):\n",
    "    while True:\n",
    "        yield odd\n",
    "        odd += 2\n",
    "\n",
    "\n",
    "gen = endless_generator()\n",
    "while True:\n",
    "    print(next(gen))\n",
    "    sleep(1)"
   ]
  },
  {
   "cell_type": "code",
   "execution_count": 62,
   "id": "ac64ff26",
   "metadata": {
    "scrolled": true
   },
   "outputs": [
    {
     "name": "stdout",
     "output_type": "stream",
     "text": [
      "1\n",
      "1\n",
      "2\n",
      "3\n",
      "5\n",
      "8\n",
      "13\n",
      "21\n",
      "34\n",
      "55\n",
      "89\n",
      "144\n",
      "233\n",
      "377\n",
      "610\n",
      "987\n",
      "1597\n",
      "2584\n",
      "4181\n",
      "6765\n",
      "10946\n",
      "17711\n",
      "28657\n",
      "46368\n",
      "75025\n",
      "121393\n",
      "196418\n"
     ]
    },
    {
     "ename": "KeyboardInterrupt",
     "evalue": "",
     "output_type": "error",
     "traceback": [
      "\u001b[1;31m---------------------------------------------------------------------------\u001b[0m",
      "\u001b[1;31mKeyboardInterrupt\u001b[0m                         Traceback (most recent call last)",
      "\u001b[1;32m~\\AppData\\Local\\Temp/ipykernel_2072/3424384318.py\u001b[0m in \u001b[0;36m<module>\u001b[1;34m\u001b[0m\n\u001b[0;32m     11\u001b[0m \u001b[1;32mwhile\u001b[0m \u001b[1;32mTrue\u001b[0m\u001b[1;33m:\u001b[0m\u001b[1;33m\u001b[0m\u001b[1;33m\u001b[0m\u001b[0m\n\u001b[0;32m     12\u001b[0m     \u001b[0mprint\u001b[0m\u001b[1;33m(\u001b[0m\u001b[0mnext\u001b[0m\u001b[1;33m(\u001b[0m\u001b[0mgen\u001b[0m\u001b[1;33m)\u001b[0m\u001b[1;33m)\u001b[0m\u001b[1;33m\u001b[0m\u001b[1;33m\u001b[0m\u001b[0m\n\u001b[1;32m---> 13\u001b[1;33m     \u001b[0msleep\u001b[0m\u001b[1;33m(\u001b[0m\u001b[1;36m1\u001b[0m\u001b[1;33m)\u001b[0m\u001b[1;33m\u001b[0m\u001b[1;33m\u001b[0m\u001b[0m\n\u001b[0m",
      "\u001b[1;31mKeyboardInterrupt\u001b[0m: "
     ]
    }
   ],
   "source": [
    "# Task 7.11\n",
    "def endless_fib_generator():\n",
    "    num_1, num_2 = 0, 1\n",
    "    yield num_2\n",
    "    while True:\n",
    "        num_1, num_2 = num_2, num_1 + num_2\n",
    "        yield num_2\n",
    "        \n",
    "        \n",
    "gen = endless_fib_generator()\n",
    "while True:\n",
    "    print(next(gen))\n",
    "    sleep(1)"
   ]
  }
 ],
 "metadata": {
  "kernelspec": {
   "display_name": "Python 3 (ipykernel)",
   "language": "python",
   "name": "python3"
  },
  "language_info": {
   "codemirror_mode": {
    "name": "ipython",
    "version": 3
   },
   "file_extension": ".py",
   "mimetype": "text/x-python",
   "name": "python",
   "nbconvert_exporter": "python",
   "pygments_lexer": "ipython3",
   "version": "3.9.5"
  }
 },
 "nbformat": 4,
 "nbformat_minor": 5
}
