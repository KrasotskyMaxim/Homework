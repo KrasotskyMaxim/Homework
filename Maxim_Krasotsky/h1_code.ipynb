{
 "cells": [
  {
   "cell_type": "code",
   "execution_count": 3,
   "id": "f678590c",
   "metadata": {},
   "outputs": [
    {
     "name": "stdout",
     "output_type": "stream",
     "text": [
      "Enter string: Hello world\n",
      "str_len =  11\n"
     ]
    }
   ],
   "source": [
    "# Task 1.1\n",
    "str = input(\"Enter string: \")\n",
    "str_len = 0\n",
    "for ch in str:\n",
    "    str_len += 1\n",
    "print(\"str_len = \", str_len)"
   ]
  },
  {
   "cell_type": "code",
   "execution_count": 12,
   "id": "56553e91",
   "metadata": {
    "scrolled": true
   },
   "outputs": [
    {
     "name": "stdout",
     "output_type": "stream",
     "text": [
      "Enter message: Oh, it is python\n",
      "\n",
      " {'o': 1, 'h': 2, ',': 1, ' ': 3, 'i': 2, 't': 2, 's': 1, 'p': 1, 'y': 1, 'n': 1}\n"
     ]
    }
   ],
   "source": [
    "# Task 1.2\n",
    "msg = input(\"Enter message: \")\n",
    "ch_dict = {}\n",
    "for ch in msg:\n",
    "    ch = ch.lower()\n",
    "    ch_dict[ch] = msg.count(ch)\n",
    "print('\\n', ch_dict)"
   ]
  },
  {
   "cell_type": "code",
   "execution_count": 37,
   "id": "c790fc38",
   "metadata": {},
   "outputs": [
    {
     "name": "stdout",
     "output_type": "stream",
     "text": [
      "red white black red green black\n",
      "['black', 'green', 'red', 'white']\n"
     ]
    }
   ],
   "source": [
    "# Task 1.3\n",
    "words = input()\n",
    "unique_words = sorted(set(words.split()))\n",
    "print(unique_words)"
   ]
  },
  {
   "cell_type": "code",
   "execution_count": 2,
   "id": "00e971b8",
   "metadata": {},
   "outputs": [
    {
     "name": "stdout",
     "output_type": "stream",
     "text": [
      "Enter a number: 60\n",
      "[1, 2, 3, 4, 5, 6, 10, 12, 15, 20, 30, 60]\n"
     ]
    }
   ],
   "source": [
    "# Task 1.3\n",
    "number = int(input(\"Enter a number: \"))\n",
    "divisors = [x for x in range(1, number+1) if number % x == 0]\n",
    "print(divisors)"
   ]
  },
  {
   "cell_type": "code",
   "execution_count": 32,
   "id": "986495d9",
   "metadata": {
    "scrolled": true
   },
   "outputs": [
    {
     "name": "stdout",
     "output_type": "stream",
     "text": [
      "-1  :  1.365\n",
      "0.95  :  None\n",
      "False  :  hello\n",
      "aa  :  True\n",
      "d  :  12345\n"
     ]
    }
   ],
   "source": [
    "# Task 1.4\n",
    "my_dict = {\n",
    "    'd': 12345,\n",
    "     -1:  1.365,\n",
    "    'aa': True,\n",
    "    False: \"hello\",\n",
    "    0.95: None\n",
    "}\n",
    "sort_list = sorted([str(key) for key in my_dict])\n",
    "for i in sort_list:\n",
    "    for key in my_dict:\n",
    "        if i == str(key):\n",
    "            print(key, \" : \", my_dict[key])"
   ]
  },
  {
   "cell_type": "code",
   "execution_count": 42,
   "id": "fb56188d",
   "metadata": {},
   "outputs": [
    {
     "name": "stdout",
     "output_type": "stream",
     "text": [
      "banana coconut banana apple\n",
      "apple pearch 12\n",
      "34 12 21 coco\n",
      "ban ban ban mama\n",
      "ban pop 10.10\n",
      "stop\n",
      "\n",
      " {'10.10', 'banana', 'coconut', 'ban', 'apple', '12', '21', 'mama', 'pearch', 'pop', '34', 'coco'}\n"
     ]
    }
   ],
   "source": [
    "# Task 1.5\n",
    "def create_dict(words):\n",
    "    dict = {}\n",
    "    for i in range(len(words)):\n",
    "        dict[i] = words[i]\n",
    "    return dict\n",
    "\n",
    "\n",
    "list_of_dicts = []\n",
    "while True:\n",
    "    words = input()\n",
    "    if words == 'stop':\n",
    "        break\n",
    "    words = words.split()\n",
    "    dict_in_list = create_dict(words)\n",
    "    list_of_dicts.append(dict_in_list)\n",
    "unique_values = set()\n",
    "for dict in list_of_dicts:\n",
    "    unique_values.update(dict.values())\n",
    "print('\\n', unique_values)"
   ]
  },
  {
   "cell_type": "code",
   "execution_count": 20,
   "id": "37bec5d7",
   "metadata": {},
   "outputs": [
    {
     "name": "stdout",
     "output_type": "stream",
     "text": [
      "10 20 30 40\n",
      "\n",
      "creating number =  10203040\n"
     ]
    }
   ],
   "source": [
    "# Task 1.6\n",
    "int_numbers = tuple(input().split())\n",
    "creating_number = \"\"\n",
    "for int_number in int_numbers: \n",
    "    creating_number += int_number\n",
    "creating_number = int(creating_number)\n",
    "print(\"\\ncreating number = \", creating_number)"
   ]
  },
  {
   "cell_type": "code",
   "execution_count": 14,
   "id": "a3e3fdd0",
   "metadata": {},
   "outputs": [
    {
     "name": "stdout",
     "output_type": "stream",
     "text": [
      "a = 2\n",
      "b = 9\n",
      "c = 2\n",
      "d = 9\n",
      "\t2\t3\t4\t5\t6\t7\t8\t9\t\n",
      "2\t4\t6\t8\t10\t12\t14\t16\t18\t\n",
      "3\t6\t9\t12\t15\t18\t21\t24\t27\t\n",
      "4\t8\t12\t16\t20\t24\t28\t32\t36\t\n",
      "5\t10\t15\t20\t25\t30\t35\t40\t45\t\n",
      "6\t12\t18\t24\t30\t36\t42\t48\t54\t\n",
      "7\t14\t21\t28\t35\t42\t49\t56\t63\t\n",
      "8\t16\t24\t32\t40\t48\t56\t64\t72\t\n",
      "9\t18\t27\t36\t45\t54\t63\t72\t81\t\n"
     ]
    }
   ],
   "source": [
    "# Task 1.6\n",
    "a = int(input(\"a = \"))\n",
    "b = int(input(\"b = \"))\n",
    "c = int(input(\"c = \"))\n",
    "d = int(input(\"d = \"))\n",
    "print('\\t', end='')\n",
    "for i in range(c, d+1):\n",
    "    print(i, end='\\t')\n",
    "print()\n",
    "for row in range(a, b+1):\n",
    "    print(row, end='\\t')\n",
    "    for column in range(c, d+1):\n",
    "        print(row * column, end='\\t')\n",
    "    print()"
   ]
  }
 ],
 "metadata": {
  "kernelspec": {
   "display_name": "Python 3 (ipykernel)",
   "language": "python",
   "name": "python3"
  },
  "language_info": {
   "codemirror_mode": {
    "name": "ipython",
    "version": 3
   },
   "file_extension": ".py",
   "mimetype": "text/x-python",
   "name": "python",
   "nbconvert_exporter": "python",
   "pygments_lexer": "ipython3",
   "version": "3.9.5"
  }
 },
 "nbformat": 4,
 "nbformat_minor": 5
}
