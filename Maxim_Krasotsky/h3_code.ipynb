{
 "cells": [
  {
   "cell_type": "code",
   "execution_count": 26,
   "id": "fc0d10fb",
   "metadata": {},
   "outputs": [
    {
     "name": "stdout",
     "output_type": "stream",
     "text": [
      "enter message: \" \" i'am i\"am ' '\n",
      "\n",
      "answer:  ' ' i\"am i'am \" \" \n",
      "\n",
      "enter message: ' \" '\" '\n",
      "\n",
      "answer:  \" ' \"' \" \n",
      "\n",
      "enter message: stop\n"
     ]
    }
   ],
   "source": [
    "# Task 4.1\n",
    "def change_quotation_marks(msg) -> str:\n",
    "    for i in range(len(msg)):\n",
    "        if msg[i] == '\\\"':\n",
    "            msg = msg[:i] + '\\'' + msg[i+1:]\n",
    "        elif msg[i] == \"\\'\":\n",
    "            msg = msg[:i] + '\\\"' + msg[i+1:]\n",
    "    return msg\n",
    "\n",
    "\n",
    "msg = None\n",
    "while True:\n",
    "    msg = input(\"enter message: \")\n",
    "    if msg == \"stop\":\n",
    "        break\n",
    "    else:\n",
    "        msg = change_quotation_marks(msg)\n",
    "        print(\"\\nanswer: \", msg, \"\\n\")"
   ]
  },
  {
   "cell_type": "code",
   "execution_count": 1,
   "id": "e7971d43",
   "metadata": {
    "scrolled": false
   },
   "outputs": [
    {
     "name": "stdout",
     "output_type": "stream",
     "text": [
      "enter a word: madam\n",
      "\n",
      "Is it madam a palindrome? True\n",
      "\n",
      "enter a word: racecar\n",
      "\n",
      "Is it racecar a palindrome? True\n",
      "\n",
      "enter a word: abavvaba\n",
      "\n",
      "Is it abavvaba a palindrome? True\n",
      "\n",
      "enter a word: banana\n",
      "\n",
      "Is it banana a palindrome? False\n",
      "\n",
      "enter a word: asiosa\n",
      "\n",
      "Is it asiosa a palindrome? False\n",
      "\n",
      "enter a word: stop\n"
     ]
    }
   ],
   "source": [
    "# Task 4.2\n",
    "def letter_comparison(word, start, end) -> bool:\n",
    "    if start >= end:\n",
    "        return True\n",
    "    if word[start] == word[end]:\n",
    "        return letter_comparison(word, start+1, end-1)\n",
    "    else:\n",
    "        return False\n",
    "\n",
    "\n",
    "def is_palindrome(word) -> bool:\n",
    "    return letter_comparison(word, 0, len(word)-1)\n",
    "\n",
    "\n",
    "word = \"\"\n",
    "while True:\n",
    "    word = input(\"enter a word: \")\n",
    "    if word == \"stop\":\n",
    "        break\n",
    "    print(f\"\\nIs it {word} a palindrome? {is_palindrome(word)}\\n\")"
   ]
  },
  {
   "cell_type": "code",
   "execution_count": 15,
   "id": "ef39f693",
   "metadata": {
    "scrolled": true
   },
   "outputs": [
    {
     "name": "stdout",
     "output_type": "stream",
     "text": [
      "enter a string: hello my name is Maxim\n",
      "enter a sign: \n",
      "\n",
      "['hello', 'my', 'name', 'is', 'Maxim']\n",
      "\n",
      "enter a string: abracadabra\n",
      "enter a sign: a\n",
      "\n",
      "['', 'br', 'c', 'd', 'br', '']\n",
      "\n",
      "enter a string: pitstop bip bip\n",
      "enter a sign: p\n",
      "\n",
      "['', 'itsto', ' bi', ' bi', '']\n",
      "\n",
      "enter a string: stop\n"
     ]
    }
   ],
   "source": [
    "# Task 4.3\n",
    "def my_str_split(string, sign) -> list:\n",
    "    if sign == '':\n",
    "        sign = \" \"\n",
    "    string_list = []\n",
    "    counter = 0\n",
    "    sign_count = string.count(sign)\n",
    "    for i in range(len(string)):\n",
    "        if string[i] == sign:\n",
    "            string_list.append(string[counter:i])\n",
    "            counter = i + 1\n",
    "            sign_count -= 1\n",
    "        if sign_count == 0 and i == len(string)-1:\n",
    "            string_list.append(string[counter:])\n",
    "    return string_list\n",
    "\n",
    "\n",
    "string = None\n",
    "sign = None\n",
    "while True:\n",
    "    string = input(\"enter a string: \")\n",
    "    if string == \"stop\":\n",
    "        break\n",
    "    sign = input(\"enter a sign: \")\n",
    "    print(f\"\\n{my_str_split(string, sign)}\\n\")\n"
   ]
  },
  {
   "cell_type": "code",
   "execution_count": 11,
   "id": "9dfa1eca",
   "metadata": {},
   "outputs": [
    {
     "name": "stdout",
     "output_type": "stream",
     "text": [
      "Enter a string: pythoniscool,isn'tit?\n",
      "enter indexes: 6 8 12 13 18\n",
      "['python', 'is', 'cool', ',', \"isn't\", 'it?']\n",
      "Enter a string: no luck\n",
      "enter indexes: 43\n",
      "['no luck']\n",
      "Enter a string: no luck\n",
      "enter indexes: 1 456 4 1000 123456\n",
      "['n', 'o l', 'uck']\n",
      "Enter a string: stop\n"
     ]
    }
   ],
   "source": [
    "# Task 4.4\n",
    "def split_by_index(s: str, indexes: list[int]) -> list[str]:\n",
    "    s_list = []\n",
    "    past_index = 0\n",
    "    true_indexes = list(filter(lambda index: index in range(len(s)), indexes))\n",
    "    indexes_count = len(true_indexes)\n",
    "    for i in range(len(true_indexes)):\n",
    "        s_list.append(s[past_index:true_indexes[i]])\n",
    "        past_index = true_indexes[i]\n",
    "        indexes_count -= 1\n",
    "        if indexes_count == 0 and i - len(true_indexes)-1:\n",
    "            s_list.append(s[past_index:])\n",
    "    if len(true_indexes) == 0:\n",
    "        s_list.append(s)\n",
    "    return s_list\n",
    "\n",
    "\n",
    "string = None\n",
    "ind = None\n",
    "while True:\n",
    "    string = input(\"Enter a string: \")\n",
    "    if string == \"stop\":\n",
    "        break\n",
    "    ind = input(\"enter indexes: \")\n",
    "    index_list = [int(index) for index in ind.split()]\n",
    "    print(split_by_index(string, index_list))"
   ]
  },
  {
   "cell_type": "code",
   "execution_count": 24,
   "id": "c02bce07",
   "metadata": {},
   "outputs": [
    {
     "name": "stdout",
     "output_type": "stream",
     "text": [
      "Enter a number: 87178291199\n",
      "(8, 7, 1, 7, 8, 2, 9, 1, 1, 9, 9)\n",
      "Enter a number: stop\n"
     ]
    }
   ],
   "source": [
    "# Task 4.5\n",
    "def get_digits(num: int) -> tuple[int]:\n",
    "    digits = []\n",
    "    for digit in str(num):\n",
    "        digits.append(int(digit))\n",
    "    return tuple(digits)\n",
    "\n",
    "\n",
    "num = None\n",
    "while True:\n",
    "    num = input(\"Enter a number: \")\n",
    "    if num == \"stop\":\n",
    "        break\n",
    "    print(get_digits(int(num)))"
   ]
  },
  {
   "cell_type": "code",
   "execution_count": 12,
   "id": "5233bfea",
   "metadata": {},
   "outputs": [
    {
     "name": "stdout",
     "output_type": "stream",
     "text": [
      "Enter a string: Python is simple and effective!\n",
      "\n",
      "effective!\n",
      "\n",
      "Enter a string: Any pythonista like namespaces a lot.\n",
      "\n",
      "pythonista\n",
      "\n",
      "Enter a string: stop\n"
     ]
    }
   ],
   "source": [
    "# Task 4.6\n",
    "def get_shortest_word(s: str) -> str:\n",
    "    words = s.split()\n",
    "    max_word = words[0]\n",
    "    for word in words:\n",
    "        if len(word) > len(max_word):\n",
    "            max_word = word\n",
    "    return max_word\n",
    "\n",
    "\n",
    "string = None\n",
    "while True:\n",
    "    string = input(\"Enter a string: \")\n",
    "    if string == \"stop\":\n",
    "        break\n",
    "    print(f\"\\n{get_shortest_word(string)}\\n\")"
   ]
  },
  {
   "cell_type": "code",
   "execution_count": 19,
   "id": "b1c37696",
   "metadata": {},
   "outputs": [
    {
     "name": "stdout",
     "output_type": "stream",
     "text": [
      "Enter a numbers: 1 2 3 4 5\n",
      "\n",
      "[120, 60, 40, 30, 24]\n",
      "\n",
      "Enter a numbers: 3 2 1\n",
      "\n",
      "[2, 3, 6]\n",
      "\n",
      "Enter a numbers: stop\n"
     ]
    }
   ],
   "source": [
    "# Task 4.7\n",
    "def get_product_result(product_list):\n",
    "    product_result = 1\n",
    "    for i in product_list:\n",
    "        product_result *= i\n",
    "    return product_result\n",
    "\n",
    "\n",
    "def foo(integers_list: list[int]) -> list[int]:\n",
    "    new_integers_list = []\n",
    "    for i in range(len(integers_list)):\n",
    "        product_list = [integers_list[x] for x in range(len(integers_list)) if x != i]\n",
    "        product_result = get_product_result(product_list)\n",
    "        new_integers_list.append(product_result)\n",
    "    return new_integers_list\n",
    "\n",
    "\n",
    "integers_list = None\n",
    "while True:\n",
    "    integers_list = input(\"Enter a numbers: \")\n",
    "    if integers_list == \"stop\":\n",
    "        break\n",
    "    integers_list = [int(x) for x in integers_list.split()]\n",
    "    print(f\"\\n{foo(integers_list)}\\n\")"
   ]
  },
  {
   "cell_type": "code",
   "execution_count": 22,
   "id": "4b57e077",
   "metadata": {},
   "outputs": [
    {
     "name": "stdout",
     "output_type": "stream",
     "text": [
      "Enter an elements: 1\n",
      "\n",
      "None\n",
      "\n",
      "Enter an elements: 1 2 3 8 9\n",
      "\n",
      "[('1', '2'), ('2', '3'), ('3', '8'), ('8', '9')]\n",
      "\n",
      "Enter an elements: need to sleep more\n",
      "\n",
      "[('need', 'to'), ('to', 'sleep'), ('sleep', 'more')]\n",
      "\n",
      "Enter an elements: stop\n"
     ]
    }
   ],
   "source": [
    "# Task 4.8\n",
    "def get_pairs(lst: list) -> list[tuple]:\n",
    "    if len(lst) == 1:\n",
    "        return None\n",
    "    list_of_tuples = []\n",
    "    for i in range(len(lst)-1):\n",
    "        list_of_tuples.append((lst[i], lst[i+1]))\n",
    "    return list_of_tuples\n",
    "\n",
    "\n",
    "lst = None\n",
    "while True:\n",
    "    lst = input(\"Enter an elements: \")\n",
    "    if lst == \"stop\":\n",
    "        break\n",
    "    lst = lst.split()\n",
    "    print(f\"\\n{get_pairs(lst)}\\n\")"
   ]
  },
  {
   "cell_type": "code",
   "execution_count": 7,
   "id": "6898ad0a",
   "metadata": {},
   "outputs": [
    {
     "name": "stdout",
     "output_type": "stream",
     "text": [
      "Enter a strings: hello world python\n",
      "\n",
      "{'o'}\n",
      "\n",
      "\n",
      "{'l', 'r', 'n', 'w', 'd', 'p', 'y', 'o', 't', 'h', 'e'}\n",
      "\n",
      "\n",
      "{'o', 'l', 'h'}\n",
      "\n",
      "\n",
      "['a', 'b', 'c', 'f', 'g', 'i', 'j', 'k', 'm', 'q', 's', 'u', 'v', 'x', 'z']\n",
      "\n",
      "Enter a strings: abc def\n",
      "\n",
      "set()\n",
      "\n",
      "\n",
      "{'d', 'a', 'c', 'b', 'f', 'e'}\n",
      "\n",
      "\n",
      "set()\n",
      "\n",
      "\n",
      "['g', 'h', 'i', 'j', 'k', 'l', 'm', 'n', 'o', 'p', 'q', 'r', 's', 't', 'u', 'v', 'w', 'x', 'y', 'z']\n",
      "\n",
      "Enter a strings: stop\n"
     ]
    }
   ],
   "source": [
    "# Task 4.9\n",
    "def test_1_1(*args):\n",
    "    all_appear = set(args[0]) & set(args[1])\n",
    "    for i in range(2, len(args)):\n",
    "        all_appear = all_appear & set(args[i])\n",
    "    return all_appear\n",
    "    \n",
    "\n",
    "def test_1_2(*args):\n",
    "    one_appear = set(args[0]) | set(args[1])\n",
    "    for i in range(2, len(args)):\n",
    "        one_appear = one_appear | set(args[i])\n",
    "    return one_appear\n",
    "\n",
    "    \n",
    "def test_1_3(*args):\n",
    "    two_appear = set()\n",
    "    for i in range(len(args)):\n",
    "        other_args = [args[x] for x in range(len(args)) if x != i]\n",
    "        for other_string in other_args:\n",
    "            temp_appear = list(set(args[i]) & set(other_string))\n",
    "            if len(temp_appear) != 0:\n",
    "                for ch in temp_appear:\n",
    "                    two_appear.add(ch)\n",
    "    return two_appear\n",
    "\n",
    "\n",
    "def test_1_4(*args):\n",
    "    no_appear = set(\"qwertyuiopasdfghjklzxcvbnm\") - test_1_2(*args)\n",
    "    return sorted(list(no_appear))\n",
    "\n",
    "\n",
    "strings = None\n",
    "while True:\n",
    "    strings = input(\"Enter a strings: \")\n",
    "    if strings == \"stop\":\n",
    "        break\n",
    "    strings = strings.split()\n",
    "    print(f\"\\n{test_1_1(*strings)}\\n\")\n",
    "    print(f\"\\n{test_1_2(*strings)}\\n\")\n",
    "    print(f\"\\n{test_1_3(*strings)}\\n\")\n",
    "    print(f\"\\n{test_1_4(*strings)}\\n\")"
   ]
  },
  {
   "cell_type": "code",
   "execution_count": 10,
   "id": "4add0bb8",
   "metadata": {},
   "outputs": [
    {
     "name": "stdout",
     "output_type": "stream",
     "text": [
      "Enter a number: 5\n",
      "\n",
      "{1: 1, 2: 4, 3: 9, 4: 16, 5: 25}\n",
      "\n",
      "Enter a number: -1\n",
      "\n",
      "{}\n",
      "\n",
      "Enter a number: 10\n",
      "\n",
      "{1: 1, 2: 4, 3: 9, 4: 16, 5: 25, 6: 36, 7: 49, 8: 64, 9: 81, 10: 100}\n",
      "\n",
      "Enter a number: stop\n"
     ]
    }
   ],
   "source": [
    "# Task 4.10\n",
    "def generate_squares(number):\n",
    "    square_dict = {num: num**2 for num in range(1, number+1)}\n",
    "    return square_dict\n",
    "\n",
    "\n",
    "number = None\n",
    "while True:\n",
    "    number = input(\"Enter a number: \")\n",
    "    if number == \"stop\":\n",
    "        break\n",
    "    print(f\"\\n{generate_squares(int(number))}\\n\")"
   ]
  },
  {
   "cell_type": "code",
   "execution_count": 20,
   "id": "1bfc60f1",
   "metadata": {},
   "outputs": [
    {
     "name": "stdout",
     "output_type": "stream",
     "text": [
      "\n",
      "{'a': 300, 'b': 200, 'c': 300}\n",
      "\n",
      "\n",
      "{'a': 600, 'b': 200, 'c': 300, 'd': 100}\n",
      "\n"
     ]
    }
   ],
   "source": [
    "# Task 4.11\n",
    "def combine_dicts(*args):\n",
    "    total_dict = {}\n",
    "    all_items = []\n",
    "    for my_dict in args:\n",
    "        all_items += my_dict.items()\n",
    "    for i in range(len(all_items)):\n",
    "        total_value = all_items[i][1]\n",
    "        another_items = [all_items[x] for x in range(len(all_items)) if x != i]\n",
    "        for another_item in another_items:\n",
    "            if all_items[i][0] == another_item[0]:\n",
    "                total_value += another_item[1]\n",
    "        total_dict[all_items[i][0]] = total_value\n",
    "    return total_dict\n",
    "\n",
    "\n",
    "dict_1 = {'a': 100, 'b': 200}\n",
    "dict_2 = {'a': 200, 'c': 300}\n",
    "dict_3 = {'a': 300, 'd': 100}\n",
    "\n",
    "print(f\"\\n{combine_dicts(dict_1, dict_2)}\\n\")\n",
    "print(f\"\\n{combine_dicts(dict_1, dict_2, dict_3)}\\n\")"
   ]
  }
 ],
 "metadata": {
  "kernelspec": {
   "display_name": "Python 3 (ipykernel)",
   "language": "python",
   "name": "python3"
  },
  "language_info": {
   "codemirror_mode": {
    "name": "ipython",
    "version": 3
   },
   "file_extension": ".py",
   "mimetype": "text/x-python",
   "name": "python",
   "nbconvert_exporter": "python",
   "pygments_lexer": "ipython3",
   "version": "3.9.5"
  }
 },
 "nbformat": 4,
 "nbformat_minor": 5
}
